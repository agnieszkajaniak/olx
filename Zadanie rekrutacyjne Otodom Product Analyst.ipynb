{
 "cells": [
  {
   "cell_type": "markdown",
   "metadata": {},
   "source": [
    "### Zadanie rekrutacyjne - Product Analyst Otodom \n",
    "### Agnieszka Spychała"
   ]
  },
  {
   "cell_type": "code",
   "execution_count": 1,
   "metadata": {},
   "outputs": [],
   "source": [
    "import sqlite3\n",
    "import pandas as pd\n",
    "import datetime as dt\n",
    "from datetime import date\n",
    "import calendar\n",
    "import matplotlib.pyplot as plt\n",
    "import numpy as np\n",
    "import operator as op\n",
    "import seaborn as sns\n",
    "import re\n",
    "from collections import Counter\n",
    "from functools import reduce\n",
    "import jenkspy"
   ]
  },
  {
   "cell_type": "markdown",
   "metadata": {},
   "source": [
    "##### Utworzenie bazy danych w SQLite"
   ]
  },
  {
   "cell_type": "code",
   "execution_count": 2,
   "metadata": {},
   "outputs": [],
   "source": [
    "conn = sqlite3.connect('sql.db')"
   ]
  },
  {
   "cell_type": "code",
   "execution_count": 3,
   "metadata": {},
   "outputs": [],
   "source": [
    "cursor = conn.cursor()"
   ]
  },
  {
   "cell_type": "markdown",
   "metadata": {},
   "source": [
    "##### Wczytanie plików wejściowych csv\n"
   ]
  },
  {
   "cell_type": "code",
   "execution_count": 4,
   "metadata": {},
   "outputs": [],
   "source": [
    "ads = pd.read_csv('data_ads.csv', sep=';', names = ['date','user_id','ad_id','category_id','params'])\n",
    "ads['date'] = pd.to_datetime(ads['date'])\n",
    "ads['day_of_week'] = ads['date'].dt.day_name()\n",
    "replies = pd.read_csv('data_replies.csv', sep=';', names=[\"date\", \"user_id\", \"ad_id\", \"mails\", \"phones\"])\n",
    "replies = replies.fillna(0)\n",
    "replies['date'] = pd.to_datetime(replies['date'])\n",
    "replies['phones'] = replies['phones'].astype(int)\n",
    "cat = pd.read_csv('data_categories.csv', sep=';', names=[\"category_id\", \"category_name\"])\n",
    "seg = pd.read_csv('data_segments.csv', sep=';', names=[\"user_id\", \"segment\"])"
   ]
  },
  {
   "cell_type": "code",
   "execution_count": 5,
   "metadata": {},
   "outputs": [
    {
     "data": {
      "text/html": [
       "<div>\n",
       "<style scoped>\n",
       "    .dataframe tbody tr th:only-of-type {\n",
       "        vertical-align: middle;\n",
       "    }\n",
       "\n",
       "    .dataframe tbody tr th {\n",
       "        vertical-align: top;\n",
       "    }\n",
       "\n",
       "    .dataframe thead th {\n",
       "        text-align: right;\n",
       "    }\n",
       "</style>\n",
       "<table border=\"1\" class=\"dataframe\">\n",
       "  <thead>\n",
       "    <tr style=\"text-align: right;\">\n",
       "      <th></th>\n",
       "      <th>date</th>\n",
       "      <th>user_id</th>\n",
       "      <th>ad_id</th>\n",
       "      <th>category_id</th>\n",
       "      <th>params</th>\n",
       "      <th>day_of_week</th>\n",
       "    </tr>\n",
       "  </thead>\n",
       "  <tbody>\n",
       "    <tr>\n",
       "      <th>0</th>\n",
       "      <td>2019-04-02</td>\n",
       "      <td>2467510</td>\n",
       "      <td>58563324</td>\n",
       "      <td>102</td>\n",
       "      <td>price&lt;=&gt;price&lt;br&gt;price&lt;=&gt;3100&lt;br&gt;price[currenc...</td>\n",
       "      <td>Tuesday</td>\n",
       "    </tr>\n",
       "    <tr>\n",
       "      <th>1</th>\n",
       "      <td>2019-04-02</td>\n",
       "      <td>530533</td>\n",
       "      <td>58563976</td>\n",
       "      <td>401</td>\n",
       "      <td>price&lt;=&gt;price&lt;br&gt;price&lt;=&gt;360000&lt;br&gt;price[curre...</td>\n",
       "      <td>Tuesday</td>\n",
       "    </tr>\n",
       "    <tr>\n",
       "      <th>2</th>\n",
       "      <td>2019-04-03</td>\n",
       "      <td>131944</td>\n",
       "      <td>58571784</td>\n",
       "      <td>201</td>\n",
       "      <td>price&lt;=&gt;price&lt;br&gt;price&lt;=&gt;288000&lt;br&gt;price[curre...</td>\n",
       "      <td>Wednesday</td>\n",
       "    </tr>\n",
       "  </tbody>\n",
       "</table>\n",
       "</div>"
      ],
      "text/plain": [
       "        date  user_id     ad_id  category_id  \\\n",
       "0 2019-04-02  2467510  58563324          102   \n",
       "1 2019-04-02   530533  58563976          401   \n",
       "2 2019-04-03   131944  58571784          201   \n",
       "\n",
       "                                              params day_of_week  \n",
       "0  price<=>price<br>price<=>3100<br>price[currenc...     Tuesday  \n",
       "1  price<=>price<br>price<=>360000<br>price[curre...     Tuesday  \n",
       "2  price<=>price<br>price<=>288000<br>price[curre...   Wednesday  "
      ]
     },
     "execution_count": 5,
     "metadata": {},
     "output_type": "execute_result"
    }
   ],
   "source": [
    "ads[0:3]"
   ]
  },
  {
   "cell_type": "markdown",
   "metadata": {},
   "source": [
    "##### Import wczytanych plików csv do bazy danych"
   ]
  },
  {
   "cell_type": "code",
   "execution_count": 6,
   "metadata": {},
   "outputs": [],
   "source": [
    "ads.to_sql('ads', conn, if_exists='replace', index=False)\n",
    "replies.to_sql('replies', conn, if_exists='replace', index=False)\n",
    "cat.to_sql('cat', conn, if_exists='replace', index=False)\n",
    "seg.to_sql('seg', conn, if_exists='replace', index=False)"
   ]
  },
  {
   "cell_type": "markdown",
   "metadata": {},
   "source": [
    "##### Wyliczenie wskaźnika liquidity"
   ]
  },
  {
   "cell_type": "code",
   "execution_count": 7,
   "metadata": {},
   "outputs": [],
   "source": [
    "query = \"\"\"\n",
    "SELECT user_id, sum(within_week) / CAST(count(*) AS float) as liquidity\n",
    "FROM (\n",
    "    SELECT ads.ad_id as ad_id, ads.user_id as user_id, COALESCE(MIN(replies.date) < date(ads.date, \"+7 days\"), 0) as within_week\n",
    "    FROM ads LEFT JOIN replies ON ads.ad_id = replies.ad_id AND (replies.phones + replies.mails) > 0\n",
    "    GROUP BY ads.ad_id, ads.user_id\n",
    ")\n",
    "GROUP BY user_id\n",
    "\"\"\"\n",
    "cursor.execute(query)\n",
    "liquidity = dict(cursor.fetchall())"
   ]
  },
  {
   "cell_type": "code",
   "execution_count": 8,
   "metadata": {},
   "outputs": [
    {
     "data": {
      "text/plain": [
       "count    334.000000\n",
       "mean       0.543458\n",
       "std        0.313424\n",
       "min        0.000000\n",
       "25%        0.333333\n",
       "50%        0.500000\n",
       "75%        0.800000\n",
       "max        1.000000\n",
       "dtype: float64"
      ]
     },
     "execution_count": 8,
     "metadata": {},
     "output_type": "execute_result"
    }
   ],
   "source": [
    "pd.Series(list(liquidity.values())).describe()"
   ]
  },
  {
   "cell_type": "markdown",
   "metadata": {},
   "source": [
    "##### Wyliczenie wskaźnika liquidity dla poszczególnych kategorii"
   ]
  },
  {
   "cell_type": "code",
   "execution_count": 9,
   "metadata": {},
   "outputs": [],
   "source": [
    "query = \"\"\"\n",
    "SELECT category_id, sum(within_week) / CAST(count(*) AS float) as liquidity\n",
    "FROM (\n",
    "    SELECT ads.ad_id as ad_id, ads.category_id as category_id, COALESCE(MIN(replies.date) < date(ads.date, \"+7 days\"), 0) as within_week\n",
    "    FROM ads LEFT JOIN replies ON ads.ad_id = replies.ad_id AND (replies.phones + replies.mails) > 0\n",
    "    GROUP BY ads.ad_id, ads.category_id\n",
    ")\n",
    "GROUP BY category_id\n",
    "\"\"\"\n",
    "cursor.execute(query)\n",
    "cat_liq = dict(cursor.fetchall())"
   ]
  },
  {
   "cell_type": "code",
   "execution_count": 10,
   "metadata": {},
   "outputs": [
    {
     "data": {
      "text/html": [
       "<div>\n",
       "<style scoped>\n",
       "    .dataframe tbody tr th:only-of-type {\n",
       "        vertical-align: middle;\n",
       "    }\n",
       "\n",
       "    .dataframe tbody tr th {\n",
       "        vertical-align: top;\n",
       "    }\n",
       "\n",
       "    .dataframe thead th {\n",
       "        text-align: right;\n",
       "    }\n",
       "</style>\n",
       "<table border=\"1\" class=\"dataframe\">\n",
       "  <thead>\n",
       "    <tr style=\"text-align: right;\">\n",
       "      <th></th>\n",
       "      <th>category_id</th>\n",
       "      <th>category_name</th>\n",
       "    </tr>\n",
       "  </thead>\n",
       "  <tbody>\n",
       "    <tr>\n",
       "      <th>0</th>\n",
       "      <td>1</td>\n",
       "      <td>na sprzedaż</td>\n",
       "    </tr>\n",
       "    <tr>\n",
       "      <th>1</th>\n",
       "      <td>2</td>\n",
       "      <td>na wynajem</td>\n",
       "    </tr>\n",
       "    <tr>\n",
       "      <th>2</th>\n",
       "      <td>11</td>\n",
       "      <td>Inwestycje</td>\n",
       "    </tr>\n",
       "    <tr>\n",
       "      <th>3</th>\n",
       "      <td>21</td>\n",
       "      <td>Projekty</td>\n",
       "    </tr>\n",
       "    <tr>\n",
       "      <th>4</th>\n",
       "      <td>101</td>\n",
       "      <td>Mieszkania na sprzedaż</td>\n",
       "    </tr>\n",
       "    <tr>\n",
       "      <th>5</th>\n",
       "      <td>102</td>\n",
       "      <td>Mieszkania na wynajem</td>\n",
       "    </tr>\n",
       "    <tr>\n",
       "      <th>6</th>\n",
       "      <td>201</td>\n",
       "      <td>Domy na sprzedaż</td>\n",
       "    </tr>\n",
       "    <tr>\n",
       "      <th>7</th>\n",
       "      <td>202</td>\n",
       "      <td>Domy na wynajem</td>\n",
       "    </tr>\n",
       "    <tr>\n",
       "      <th>8</th>\n",
       "      <td>302</td>\n",
       "      <td>Pokoje na wynajem</td>\n",
       "    </tr>\n",
       "    <tr>\n",
       "      <th>9</th>\n",
       "      <td>401</td>\n",
       "      <td>Działki na sprzedaż</td>\n",
       "    </tr>\n",
       "    <tr>\n",
       "      <th>10</th>\n",
       "      <td>402</td>\n",
       "      <td>Działki na wynajem</td>\n",
       "    </tr>\n",
       "    <tr>\n",
       "      <th>11</th>\n",
       "      <td>501</td>\n",
       "      <td>Lokale użytkowy na sprzedaż</td>\n",
       "    </tr>\n",
       "    <tr>\n",
       "      <th>12</th>\n",
       "      <td>502</td>\n",
       "      <td>Lokale użytkowy na wynajem</td>\n",
       "    </tr>\n",
       "    <tr>\n",
       "      <th>13</th>\n",
       "      <td>601</td>\n",
       "      <td>Hale/Magazyny na sprzedaż</td>\n",
       "    </tr>\n",
       "    <tr>\n",
       "      <th>14</th>\n",
       "      <td>602</td>\n",
       "      <td>Hale/Magazyne na wynajem</td>\n",
       "    </tr>\n",
       "    <tr>\n",
       "      <th>15</th>\n",
       "      <td>701</td>\n",
       "      <td>Garaże na sprzedaż</td>\n",
       "    </tr>\n",
       "    <tr>\n",
       "      <th>16</th>\n",
       "      <td>702</td>\n",
       "      <td>Garaże na wynajem</td>\n",
       "    </tr>\n",
       "  </tbody>\n",
       "</table>\n",
       "</div>"
      ],
      "text/plain": [
       "    category_id                category_name\n",
       "0             1                  na sprzedaż\n",
       "1             2                   na wynajem\n",
       "2            11                   Inwestycje\n",
       "3            21                     Projekty\n",
       "4           101       Mieszkania na sprzedaż\n",
       "5           102        Mieszkania na wynajem\n",
       "6           201             Domy na sprzedaż\n",
       "7           202              Domy na wynajem\n",
       "8           302            Pokoje na wynajem\n",
       "9           401          Działki na sprzedaż\n",
       "10          402           Działki na wynajem\n",
       "11          501  Lokale użytkowy na sprzedaż\n",
       "12          502   Lokale użytkowy na wynajem\n",
       "13          601    Hale/Magazyny na sprzedaż\n",
       "14          602     Hale/Magazyne na wynajem\n",
       "15          701           Garaże na sprzedaż\n",
       "16          702            Garaże na wynajem"
      ]
     },
     "execution_count": 10,
     "metadata": {},
     "output_type": "execute_result"
    }
   ],
   "source": [
    "cat"
   ]
  },
  {
   "cell_type": "code",
   "execution_count": 11,
   "metadata": {},
   "outputs": [
    {
     "data": {
      "text/plain": [
       "{702: 0.0,\n",
       " 601: 0.2222222222222222,\n",
       " 502: 0.2254335260115607,\n",
       " 602: 0.24242424242424243,\n",
       " 501: 0.2727272727272727,\n",
       " 401: 0.2753623188405797,\n",
       " 402: 0.3333333333333333,\n",
       " 202: 0.37254901960784315,\n",
       " 101: 0.38179952104002735,\n",
       " 201: 0.46444780635400906,\n",
       " 701: 0.5,\n",
       " 102: 0.5439838220424671,\n",
       " 302: 1.0}"
      ]
     },
     "execution_count": 11,
     "metadata": {},
     "output_type": "execute_result"
    }
   ],
   "source": [
    "cat_liq\n",
    "{k: v for k, v in sorted(cat_liq.items(), key=lambda item: item[1])}"
   ]
  },
  {
   "cell_type": "code",
   "execution_count": 12,
   "metadata": {},
   "outputs": [
    {
     "data": {
      "image/png": "[encoded data removed]",
      "text/plain": [
       "<Figure size 576x576 with 1 Axes>"
      ]
     },
     "metadata": {},
     "output_type": "display_data"
    }
   ],
   "source": [
    "plt.figure(figsize=(8,8))\n",
    "plt.bar(range(len(cat_liq)), list(cat_liq.values()), align='center', color = 'g')\n",
    "plt.xticks(range(len(cat_liq)), list(cat_liq.keys()))\n",
    "plt.title(\"Liquidity value for each category\", fontsize=15)\n",
    "plt.savefig('categories.png')\n",
    "plt.show()"
   ]
  },
  {
   "cell_type": "code",
   "execution_count": 13,
   "metadata": {},
   "outputs": [
    {
     "name": "stdout",
     "output_type": "stream",
     "text": [
      "category_id\n",
      "101    2923\n",
      "102     989\n",
      "201     661\n",
      "202      51\n",
      "302       2\n",
      "401     414\n",
      "402       3\n",
      "501      77\n",
      "502     346\n",
      "601       9\n",
      "602      66\n",
      "701       4\n",
      "702       1\n",
      "Name: category_id, dtype: int64     category_id                category_name\n",
      "0             1                  na sprzedaż\n",
      "1             2                   na wynajem\n",
      "2            11                   Inwestycje\n",
      "3            21                     Projekty\n",
      "4           101       Mieszkania na sprzedaż\n",
      "5           102        Mieszkania na wynajem\n",
      "6           201             Domy na sprzedaż\n",
      "7           202              Domy na wynajem\n",
      "8           302            Pokoje na wynajem\n",
      "9           401          Działki na sprzedaż\n",
      "10          402           Działki na wynajem\n",
      "11          501  Lokale użytkowy na sprzedaż\n",
      "12          502   Lokale użytkowy na wynajem\n",
      "13          601    Hale/Magazyny na sprzedaż\n",
      "14          602     Hale/Magazyne na wynajem\n",
      "15          701           Garaże na sprzedaż\n",
      "16          702            Garaże na wynajem\n"
     ]
    }
   ],
   "source": [
    "print(ads.groupby(['category_id'])['category_id'].count(), cat)"
   ]
  },
  {
   "cell_type": "markdown",
   "metadata": {},
   "source": [
    "Widoczna jest zależność pomiędzy wartością wskaźnika liquidity, a kategorią ogłoszenia. Trudno jednoznacznie określić, które kategorie ogłoszeń są chętniej przeglądane przez klientów, z uwagi na niewielką liczbę ogłoszeń, w niektórych kategoriach. Np. dla kategorii \"Pokoje na wynajem\" liquidity wg danych wynosi 100%, jednak liczba ogłoszeń to tylko 2, a dla kategorii \"Garaże na wynajem\" liquidity jest równe 0%, jednak zamieszczono tylko jedno ogłoszenie. Jednak biorąc pod uwagę tylko kategorie, w których zamieszczono co najmniej 300 ogłoszeń wg dostępnych danych największą wartość liquidity (54%) osiągnęła kategoria \"Mieszkania na wynajem\". Natomiast wartość analizowanego współczynnika była najmniejsza dla kategorii \"Lokale użytkowe na wynajem\" i wynosiła tylko 22%."
   ]
  },
  {
   "cell_type": "markdown",
   "metadata": {},
   "source": [
    "##### Rozkład wskaźnika liquidity dla poszczególnych segmentów"
   ]
  },
  {
   "cell_type": "code",
   "execution_count": 14,
   "metadata": {},
   "outputs": [],
   "source": [
    "seg_mapping = dict(list(zip(seg['user_id'], seg['segment'])))"
   ]
  },
  {
   "cell_type": "code",
   "execution_count": 15,
   "metadata": {},
   "outputs": [],
   "source": [
    "seg_liq = {'Beginners': [], 'Sharks': [], 'Hipot': []}\n",
    "for k,v in liquidity.items():\n",
    "    seg_liq[seg_mapping[k]].append(v)"
   ]
  },
  {
   "cell_type": "code",
   "execution_count": 16,
   "metadata": {},
   "outputs": [
    {
     "data": {
      "text/plain": [
       "dict_keys(['Beginners', 'Sharks', 'Hipot'])"
      ]
     },
     "execution_count": 16,
     "metadata": {},
     "output_type": "execute_result"
    }
   ],
   "source": [
    "labels, data = seg_liq.keys(), seg_liq.values()\n",
    "labels"
   ]
  },
  {
   "cell_type": "code",
   "execution_count": 17,
   "metadata": {
    "scrolled": true
   },
   "outputs": [
    {
     "data": {
      "image/png": "[encoded data removed]",
      "text/plain": [
       "<Figure size 576x576 with 1 Axes>"
      ]
     },
     "metadata": {},
     "output_type": "display_data"
    }
   ],
   "source": [
    "#tworzenie wykresu pudełkowego\n",
    "plt.figure(figsize=(8,8))\n",
    "plt.boxplot(data)\n",
    "plt.xticks(range(1, len(labels) + 1), labels)\n",
    "plt.title(\"Distribution of liquidity indicator values for users in individual segments\" , fontsize=15)\n",
    "plt.savefig('segments.png')\n",
    "plt.show()"
   ]
  },
  {
   "cell_type": "code",
   "execution_count": 18,
   "metadata": {},
   "outputs": [
    {
     "data": {
      "text/html": [
       "<div>\n",
       "<style scoped>\n",
       "    .dataframe tbody tr th:only-of-type {\n",
       "        vertical-align: middle;\n",
       "    }\n",
       "\n",
       "    .dataframe tbody tr th {\n",
       "        vertical-align: top;\n",
       "    }\n",
       "\n",
       "    .dataframe thead th {\n",
       "        text-align: right;\n",
       "    }\n",
       "</style>\n",
       "<table border=\"1\" class=\"dataframe\">\n",
       "  <thead>\n",
       "    <tr style=\"text-align: right;\">\n",
       "      <th></th>\n",
       "      <th>0</th>\n",
       "    </tr>\n",
       "  </thead>\n",
       "  <tbody>\n",
       "    <tr>\n",
       "      <th>count</th>\n",
       "      <td>134.000000</td>\n",
       "    </tr>\n",
       "    <tr>\n",
       "      <th>mean</th>\n",
       "      <td>0.553674</td>\n",
       "    </tr>\n",
       "    <tr>\n",
       "      <th>std</th>\n",
       "      <td>0.355836</td>\n",
       "    </tr>\n",
       "    <tr>\n",
       "      <th>min</th>\n",
       "      <td>0.000000</td>\n",
       "    </tr>\n",
       "    <tr>\n",
       "      <th>25%</th>\n",
       "      <td>0.250000</td>\n",
       "    </tr>\n",
       "    <tr>\n",
       "      <th>50%</th>\n",
       "      <td>0.545455</td>\n",
       "    </tr>\n",
       "    <tr>\n",
       "      <th>75%</th>\n",
       "      <td>1.000000</td>\n",
       "    </tr>\n",
       "    <tr>\n",
       "      <th>max</th>\n",
       "      <td>1.000000</td>\n",
       "    </tr>\n",
       "  </tbody>\n",
       "</table>\n",
       "</div>"
      ],
      "text/plain": [
       "                0\n",
       "count  134.000000\n",
       "mean     0.553674\n",
       "std      0.355836\n",
       "min      0.000000\n",
       "25%      0.250000\n",
       "50%      0.545455\n",
       "75%      1.000000\n",
       "max      1.000000"
      ]
     },
     "execution_count": 18,
     "metadata": {},
     "output_type": "execute_result"
    }
   ],
   "source": [
    "df_beg = pd.DataFrame.from_dict(seg_liq['Beginners'])\n",
    "df_sha = pd.DataFrame.from_dict(seg_liq['Sharks'])\n",
    "df_hip = pd.DataFrame.from_dict(seg_liq['Hipot'])\n",
    "df_beg.describe() #podstawowe miary statystyczne dla liquidity segmentu Beginners"
   ]
  },
  {
   "cell_type": "code",
   "execution_count": 19,
   "metadata": {},
   "outputs": [
    {
     "data": {
      "text/html": [
       "<div>\n",
       "<style scoped>\n",
       "    .dataframe tbody tr th:only-of-type {\n",
       "        vertical-align: middle;\n",
       "    }\n",
       "\n",
       "    .dataframe tbody tr th {\n",
       "        vertical-align: top;\n",
       "    }\n",
       "\n",
       "    .dataframe thead th {\n",
       "        text-align: right;\n",
       "    }\n",
       "</style>\n",
       "<table border=\"1\" class=\"dataframe\">\n",
       "  <thead>\n",
       "    <tr style=\"text-align: right;\">\n",
       "      <th></th>\n",
       "      <th>0</th>\n",
       "    </tr>\n",
       "  </thead>\n",
       "  <tbody>\n",
       "    <tr>\n",
       "      <th>count</th>\n",
       "      <td>111.000000</td>\n",
       "    </tr>\n",
       "    <tr>\n",
       "      <th>mean</th>\n",
       "      <td>0.487204</td>\n",
       "    </tr>\n",
       "    <tr>\n",
       "      <th>std</th>\n",
       "      <td>0.240600</td>\n",
       "    </tr>\n",
       "    <tr>\n",
       "      <th>min</th>\n",
       "      <td>0.000000</td>\n",
       "    </tr>\n",
       "    <tr>\n",
       "      <th>25%</th>\n",
       "      <td>0.333333</td>\n",
       "    </tr>\n",
       "    <tr>\n",
       "      <th>50%</th>\n",
       "      <td>0.466667</td>\n",
       "    </tr>\n",
       "    <tr>\n",
       "      <th>75%</th>\n",
       "      <td>0.620192</td>\n",
       "    </tr>\n",
       "    <tr>\n",
       "      <th>max</th>\n",
       "      <td>1.000000</td>\n",
       "    </tr>\n",
       "  </tbody>\n",
       "</table>\n",
       "</div>"
      ],
      "text/plain": [
       "                0\n",
       "count  111.000000\n",
       "mean     0.487204\n",
       "std      0.240600\n",
       "min      0.000000\n",
       "25%      0.333333\n",
       "50%      0.466667\n",
       "75%      0.620192\n",
       "max      1.000000"
      ]
     },
     "execution_count": 19,
     "metadata": {},
     "output_type": "execute_result"
    }
   ],
   "source": [
    "df_sha.describe() #podstawowe miary statystyczne dla liquidity segmentu Sharks"
   ]
  },
  {
   "cell_type": "code",
   "execution_count": 20,
   "metadata": {},
   "outputs": [
    {
     "data": {
      "text/html": [
       "<div>\n",
       "<style scoped>\n",
       "    .dataframe tbody tr th:only-of-type {\n",
       "        vertical-align: middle;\n",
       "    }\n",
       "\n",
       "    .dataframe tbody tr th {\n",
       "        vertical-align: top;\n",
       "    }\n",
       "\n",
       "    .dataframe thead th {\n",
       "        text-align: right;\n",
       "    }\n",
       "</style>\n",
       "<table border=\"1\" class=\"dataframe\">\n",
       "  <thead>\n",
       "    <tr style=\"text-align: right;\">\n",
       "      <th></th>\n",
       "      <th>0</th>\n",
       "    </tr>\n",
       "  </thead>\n",
       "  <tbody>\n",
       "    <tr>\n",
       "      <th>count</th>\n",
       "      <td>89.000000</td>\n",
       "    </tr>\n",
       "    <tr>\n",
       "      <th>mean</th>\n",
       "      <td>0.598238</td>\n",
       "    </tr>\n",
       "    <tr>\n",
       "      <th>std</th>\n",
       "      <td>0.317516</td>\n",
       "    </tr>\n",
       "    <tr>\n",
       "      <th>min</th>\n",
       "      <td>0.000000</td>\n",
       "    </tr>\n",
       "    <tr>\n",
       "      <th>25%</th>\n",
       "      <td>0.363636</td>\n",
       "    </tr>\n",
       "    <tr>\n",
       "      <th>50%</th>\n",
       "      <td>0.583333</td>\n",
       "    </tr>\n",
       "    <tr>\n",
       "      <th>75%</th>\n",
       "      <td>1.000000</td>\n",
       "    </tr>\n",
       "    <tr>\n",
       "      <th>max</th>\n",
       "      <td>1.000000</td>\n",
       "    </tr>\n",
       "  </tbody>\n",
       "</table>\n",
       "</div>"
      ],
      "text/plain": [
       "               0\n",
       "count  89.000000\n",
       "mean    0.598238\n",
       "std     0.317516\n",
       "min     0.000000\n",
       "25%     0.363636\n",
       "50%     0.583333\n",
       "75%     1.000000\n",
       "max     1.000000"
      ]
     },
     "execution_count": 20,
     "metadata": {},
     "output_type": "execute_result"
    }
   ],
   "source": [
    "df_hip.describe() #podstawowe miary statystyczne dla liquidity segmentu Hipot"
   ]
  },
  {
   "cell_type": "code",
   "execution_count": 21,
   "metadata": {},
   "outputs": [],
   "source": [
    "seg_users = {'Beginners': [], 'Sharks': [], 'Hipot': []}\n",
    "for k,v in seg_mapping.items():\n",
    "    seg_users[seg_mapping[k]].append(k)"
   ]
  },
  {
   "cell_type": "markdown",
   "metadata": {},
   "source": [
    "#### Wyliczenie liczby ogłoszeń zamieszczonych w poszczególnych segmentach"
   ]
  },
  {
   "cell_type": "code",
   "execution_count": 22,
   "metadata": {},
   "outputs": [],
   "source": [
    "query = \"\"\"\n",
    "SELECT  seg.segment, count(*) as ad_count\n",
    "FROM ads\n",
    "INNER JOIN seg ON ads.user_id=seg.user_id\n",
    "GROUP BY seg.segment \n",
    "\"\"\"\n",
    "cursor.execute(query)\n",
    "seg_ad_count = dict(cursor.fetchall())"
   ]
  },
  {
   "cell_type": "code",
   "execution_count": 23,
   "metadata": {},
   "outputs": [
    {
     "data": {
      "text/plain": [
       "{'Beginners': 858, 'Hipot': 535, 'Sharks': 4153}"
      ]
     },
     "execution_count": 23,
     "metadata": {},
     "output_type": "execute_result"
    }
   ],
   "source": [
    "seg_ad_count #liczba ogłoszeń w poszczególnych segmentach"
   ]
  },
  {
   "cell_type": "markdown",
   "metadata": {},
   "source": [
    "#### Wyliczenie liczby użytkowników w poszczególnych segmetach"
   ]
  },
  {
   "cell_type": "code",
   "execution_count": 24,
   "metadata": {},
   "outputs": [],
   "source": [
    "query = \"\"\"\n",
    "SELECT  segment, count(*) \n",
    "FROM seg\n",
    "GROUP BY segment \n",
    "\"\"\"\n",
    "cursor.execute(query)\n",
    "seg_count = dict(cursor.fetchall())"
   ]
  },
  {
   "cell_type": "code",
   "execution_count": 25,
   "metadata": {},
   "outputs": [
    {
     "data": {
      "text/plain": [
       "{'Beginners': 178, 'Hipot': 111, 'Sharks': 116}"
      ]
     },
     "execution_count": 25,
     "metadata": {},
     "output_type": "execute_result"
    }
   ],
   "source": [
    "seg_count #liczba użytkowników w poszczególnych segmentach"
   ]
  },
  {
   "cell_type": "markdown",
   "metadata": {},
   "source": [
    "#### Średnia liczba ogłoszeń na jednego użytkownika w danych segmentach"
   ]
  },
  {
   "cell_type": "code",
   "execution_count": 26,
   "metadata": {},
   "outputs": [
    {
     "data": {
      "text/plain": [
       "{'Beginners': 4.820224719101123,\n",
       " 'Hipot': 4.81981981981982,\n",
       " 'Sharks': 35.80172413793103}"
      ]
     },
     "execution_count": 26,
     "metadata": {},
     "output_type": "execute_result"
    }
   ],
   "source": [
    "seg_mean = dict((k, float(seg_ad_count[k]) / seg_count[k]) for k in seg_ad_count)\n",
    "seg_mean"
   ]
  },
  {
   "cell_type": "markdown",
   "metadata": {},
   "source": [
    "W zbiorze danych istnieją 3 segmenty użytkowników: Beginners, Sharks oraz Hipot. Najwięcej użytkowników jest w segmencie Beginners - 178, w segmencie Sharks jest 116 użytkowników, a w segmencie Hipot 111, z czego w dostępnej bazie danych ogłoszenia wystawiane były przez odpowiednio 134, 111 i 89 użytkowników w poszczególnych segmentach. Rozkłady wartości wskaźnika liquidity dla użytkowników z segmentów Beginners oraz Hipot są bardzo zbliżone do siebie. Średnie dla tych segmentów wynoszą powyżej 50%, natomiast różnice między trzecim i pierwszym kwartylem obejmują szeroki zakres rozkładów - dla Beginners są to wartości pomiędzy 25% a 100 %, a dla Hipot pomiędzy 36% a 100%. Natomiast segment użytkowników Shark znacząco różni się od pozostałych dwóch. Średnia w tym przypadku jest niższa od 50%, a wartości pomiędzy trzecim i pierwszym kwartylem obejmują dużo mniejszy przedział niż pozostałych dwóch segmentach - od 33% do 62%. Niewątpliwie wpływ na gorsze statystyki dla segmentu Sharks ma fakt, iż użytkownicy z tej grupy wystawiali znacznie więcej ogłoszeń niż w pozostałych 2 grupach i było to średnio prawie 36 ogłoszeń na użytkownika. W segmentach Beginner i Hipot średnia liczba ogłoszeń umieszczanych przez użytkowników wynosiła tylko około 5. Segment użytkownika może być kolejnym istotnym czynnikiem determinującym wartość wskaźnika liquidity. Z dostępnych danych wynika, iż użytkownicy z segmentu Shark umieszczają średnio najwięcej ogłoszeń, jednak statystycznie osiągają one najgorsze wyniki, jeśli chodzi o liczbę wyświetleń w pierwszym tygodniu. Segment Sharks jest to najbardziej aktywna grupa użytkowników. Największe szanse na wysoką wartość wskaźnika mają użytkownicy z segmentu Hipot. Prawdopodobnie ogłoszenia dodawane przez sprzedawców z grupy Hipot są lepiej odbierane przez klientów, niż te umieszczane przez grupę Beginners, dzięki większemu doświadczeniu w sprzedaży tej grupy użytkowników."
   ]
  },
  {
   "cell_type": "markdown",
   "metadata": {},
   "source": [
    "##### Wpływ dni tygodni, w których umieszczane są ogłoszenia na wartość liquidity"
   ]
  },
  {
   "cell_type": "code",
   "execution_count": 27,
   "metadata": {},
   "outputs": [],
   "source": [
    "replies['date'] = pd.to_datetime(replies['date'])\n",
    "replies['day_of_week'] = replies['date'].dt.day_name()\n",
    "replies['sum'] = replies['mails'] + replies['phones'].astype(int)"
   ]
  },
  {
   "cell_type": "code",
   "execution_count": 28,
   "metadata": {},
   "outputs": [
    {
     "name": "stdout",
     "output_type": "stream",
     "text": [
      "day_of_week\n",
      "Friday       4989\n",
      "Monday       8732\n",
      "Saturday     3477\n",
      "Sunday       5951\n",
      "Thursday     5917\n",
      "Tuesday      8136\n",
      "Wednesday    6315\n",
      "Name: sum, dtype: int64\n"
     ]
    },
    {
     "data": {
      "image/png": "[encoded data removed]",
      "text/plain": [
       "<Figure size 576x576 with 1 Axes>"
      ]
     },
     "metadata": {},
     "output_type": "display_data"
    }
   ],
   "source": [
    "rep_days = replies.groupby(['day_of_week'], as_index = False).sum()\n",
    "days = {'Monday':1, 'Tuesday':2, 'Wednesday':3, 'Thursday': 4, 'Friday': 5,\n",
    "                                            'Saturday': 6, 'Sunday': 7}\n",
    "s = rep_days['day_of_week'].apply(lambda x: days[x])\n",
    "s.sort_values()\n",
    "\n",
    "fig = plt.figure(figsize=(8,8))\n",
    "rep_days.set_index(s.sort_index()).sort_index()['sum'].plot.bar(x='day_of_week', y='sum')\n",
    "plt.title(\"The number of ads placed on each day of the week\",fontsize = 15)\n",
    "plt.savefig('days.png')\n",
    "print(replies.groupby(['day_of_week'])['sum'].sum())"
   ]
  },
  {
   "cell_type": "markdown",
   "metadata": {},
   "source": [
    "Z powyższego wykresu wynika, iż najwięcej ogłoszeń zamieszczanych jest w poniedziałki. Liczba dodawanych ogłoszeń stopniowo spada w ciągu tygodnia - najmniej pojawiło się w soboty. W niedziele dodano więcej nowych ogłoszeń niż w soboty."
   ]
  },
  {
   "cell_type": "markdown",
   "metadata": {},
   "source": [
    "##### Wyliczenie wskaźnika liquidity w zależności od dnia, w którym umieszczono ogłoszenie"
   ]
  },
  {
   "cell_type": "code",
   "execution_count": 29,
   "metadata": {},
   "outputs": [],
   "source": [
    "query = \"\"\"\n",
    "SELECT day_of_week, sum(within_week) / CAST(count(*) AS float) as liquidity\n",
    "FROM (\n",
    "    SELECT ads.ad_id as ad_id, ads.day_of_week as day_of_week, COALESCE(MIN(replies.date) < date(ads.date, \"+7 days\"), 0) as within_week\n",
    "    FROM ads LEFT JOIN replies ON ads.ad_id = replies.ad_id AND (replies.phones + replies.mails) > 0\n",
    "    GROUP BY ads.ad_id, ads.day_of_week\n",
    ")\n",
    "GROUP BY day_of_week\n",
    "\"\"\"\n",
    "cursor.execute(query)\n",
    "ads_days_liq = dict(cursor.fetchall())"
   ]
  },
  {
   "cell_type": "code",
   "execution_count": 30,
   "metadata": {},
   "outputs": [],
   "source": [
    "ads_dict = {'Days Liquidity' : ads_days_liq}\n",
    "list_ = ads_days_liq.items()\n",
    "mapping = {'Monday':0,'Tuesday':1,'Wednesday':2,'Thursday':3,'Friday':4,'Saturday':5,'Sunday':6}\n",
    "\n",
    "new_list = list(zip(list_,[mapping[i[0]] for i in list_]))\n",
    "new_list.sort(key=op.itemgetter(1))\n",
    "ads_list = []\n",
    "for i in range(len(new_list)):\n",
    "    ads_list.append(new_list[i][0])"
   ]
  },
  {
   "cell_type": "code",
   "execution_count": 31,
   "metadata": {},
   "outputs": [
    {
     "data": {
      "text/plain": [
       "{'Monday': 0.35190918472652216,\n",
       " 'Tuesday': 0.37337413925019125,\n",
       " 'Wednesday': 0.36023622047244097,\n",
       " 'Thursday': 0.3827859569648924,\n",
       " 'Friday': 0.3783209351753454,\n",
       " 'Saturday': 0.7715355805243446,\n",
       " 'Sunday': 0.7423312883435583}"
      ]
     },
     "execution_count": 31,
     "metadata": {},
     "output_type": "execute_result"
    }
   ],
   "source": [
    "ads_dict = dict(ads_list)\n",
    "ads_dict"
   ]
  },
  {
   "cell_type": "code",
   "execution_count": 32,
   "metadata": {},
   "outputs": [
    {
     "data": {
      "image/png": "[encoded data removed]",
      "text/plain": [
       "<Figure size 576x576 with 1 Axes>"
      ]
     },
     "metadata": {},
     "output_type": "display_data"
    }
   ],
   "source": [
    "plt.figure(figsize=(8,8))\n",
    "plt.bar(ads_dict.keys(), height = list(ads_dict.values()))\n",
    "plt.xticks(rotation=60)\n",
    "plt.title(\"Liquidity value due to the day of the week on which \\n the advertisement was placed\", fontsize = 15)\n",
    "plt.savefig('liq_days.png')\n",
    "plt.show()"
   ]
  },
  {
   "cell_type": "markdown",
   "metadata": {},
   "source": [
    "Z powyżej tabeli wynika, iż wskaźnik liquidity jest znacząco większy dla ogłoszeń umieszczanych w soboty oraz niedziele od wartości wskaźnika dla ogłoszeń umieszczanych od poniedziałku do piątku. Można zatem stwierdzić, iż dzień tygodnia, w którym umieszczane są ogłoszenia ma istotny wpływ na wartość wskaźnika liquidity. Najwięcej ogłoszeń dodawanych jest natomiast na początku tygodnia. "
   ]
  },
  {
   "cell_type": "markdown",
   "metadata": {},
   "source": [
    "#### Rozdzielenie kolumny params"
   ]
  },
  {
   "cell_type": "code",
   "execution_count": 33,
   "metadata": {},
   "outputs": [],
   "source": [
    "par_columns = []\n",
    "def split1(data):\n",
    "    par = data['params']\n",
    "    for i in range(0, (len(par)-1)):\n",
    "        temp = par[i]\n",
    "        temp = temp.split('<br>')\n",
    "        temp.remove('price<=>price')\n",
    "        for j in range(0, (len(temp)-1)):\n",
    "            names = temp[j].split('<=>')\n",
    "            par_columns.append(names[0])   "
   ]
  },
  {
   "cell_type": "code",
   "execution_count": 34,
   "metadata": {},
   "outputs": [],
   "source": [
    "splited = split1(ads)"
   ]
  },
  {
   "cell_type": "markdown",
   "metadata": {},
   "source": [
    "#### Ekstracja nazw kolumn parametrów zawartych w ciągu znaków params"
   ]
  },
  {
   "cell_type": "code",
   "execution_count": 35,
   "metadata": {},
   "outputs": [
    {
     "data": {
      "text/plain": [
       "['price',\n",
       " 'price[currency]',\n",
       " 'rent',\n",
       " 'rent[currency]',\n",
       " 'deposit',\n",
       " 'deposit[currency]',\n",
       " 'm',\n",
       " 'rooms_num',\n",
       " 'building_type',\n",
       " 'floor_no',\n",
       " 'building_floors_num',\n",
       " 'building_material',\n",
       " 'windows_type',\n",
       " 'heating',\n",
       " 'build_year',\n",
       " 'construction_status',\n",
       " 'free_from',\n",
       " 'rent_to_students',\n",
       " 'equipment_types',\n",
       " 'security_types',\n",
       " 'media_types',\n",
       " 'price_per_m',\n",
       " 'type',\n",
       " 'dimensions',\n",
       " 'fence',\n",
       " 'location',\n",
       " 'access_types',\n",
       " 'terrain_area',\n",
       " 'market',\n",
       " 'floors_num',\n",
       " 'garret_type',\n",
       " 'roof_type',\n",
       " 'roofing',\n",
       " 'recreational',\n",
       " 'fence_types',\n",
       " 'heating_types',\n",
       " 'vicinity_types',\n",
       " 'extras_types',\n",
       " 'building_ownership',\n",
       " 'use_types',\n",
       " 'height',\n",
       " 'structure',\n",
       " 'parking',\n",
       " 'flooring',\n",
       " 'office_space',\n",
       " 'social_facilities',\n",
       " 'ramp',\n",
       " 'localization',\n",
       " 'lighting',\n",
       " 'roomsize',\n",
       " 'non_smokers_only']"
      ]
     },
     "execution_count": 35,
     "metadata": {},
     "output_type": "execute_result"
    }
   ],
   "source": [
    "par_columns\n",
    "c = Counter(par_columns)\n",
    "columns = reduce(lambda l, x: l+[x] if x not in l else l, par_columns, [])\n",
    "columns"
   ]
  },
  {
   "cell_type": "markdown",
   "metadata": {},
   "source": [
    "#### Utworzenie nowych kolumn na podstawie danych zawartych w zmiennej params"
   ]
  },
  {
   "cell_type": "code",
   "execution_count": 36,
   "metadata": {},
   "outputs": [],
   "source": [
    "for i in columns:\n",
    "    ads[i] = 0"
   ]
  },
  {
   "cell_type": "markdown",
   "metadata": {},
   "source": [
    "#### Wypełnienie nowo utworzonych kolumn danymi"
   ]
  },
  {
   "cell_type": "code",
   "execution_count": 37,
   "metadata": {},
   "outputs": [],
   "source": [
    "def fill_column(data, string):\n",
    "    par = data['params']\n",
    "    new_column = data[string]\n",
    "    n = 0\n",
    "    m = 0\n",
    "    for i in range(0, (len(par)-1)):\n",
    "        temp = par[i]\n",
    "        temp = temp.split('<br>')\n",
    "        temp.remove('price<=>price')\n",
    "        for j in range(0, (len(temp))):\n",
    "            values = temp[j].split('<=>')\n",
    "            if (values[0] == string):\n",
    "                value1 = values[1]\n",
    "                new_column[n] = value1\n",
    "                n = n + 1\n",
    "                m = m + 1\n",
    "            "
   ]
  },
  {
   "cell_type": "code",
   "execution_count": 38,
   "metadata": {},
   "outputs": [
    {
     "name": "stderr",
     "output_type": "stream",
     "text": [
      "/home/agnieszka/anaconda3/lib/python3.6/site-packages/ipykernel_launcher.py:14: SettingWithCopyWarning: \n",
      "A value is trying to be set on a copy of a slice from a DataFrame\n",
      "\n",
      "See the caveats in the documentation: http://pandas.pydata.org/pandas-docs/stable/indexing.html#indexing-view-versus-copy\n",
      "  \n",
      "/home/agnieszka/.local/lib/python3.6/site-packages/pandas/core/indexing.py:189: SettingWithCopyWarning: \n",
      "A value is trying to be set on a copy of a slice from a DataFrame\n",
      "\n",
      "See the caveats in the documentation: http://pandas.pydata.org/pandas-docs/stable/indexing.html#indexing-view-versus-copy\n",
      "  self._setitem_with_indexer(indexer, value)\n"
     ]
    }
   ],
   "source": [
    "for i in columns:\n",
    "    fill_column(ads, i)"
   ]
  },
  {
   "cell_type": "markdown",
   "metadata": {},
   "source": [
    "#### Dodanie do tabeli ads informacji czy dla danego ogłoszenie pojawiła się jakakolwiek odpowiedź w przeciągu pierwszych 7 dni od umieszczenia"
   ]
  },
  {
   "cell_type": "code",
   "execution_count": 39,
   "metadata": {},
   "outputs": [],
   "source": [
    "query = \"\"\"\n",
    "SELECT replies.ad_id\n",
    "FROM ads LEFT JOIN replies ON ads.ad_id = replies.ad_id\n",
    "WHERE ((replies.phones + replies.mails) > 0) AND (ads.date < date(ads.date, \"+7 days\")) \n",
    "\"\"\"\n",
    "cursor.execute(query)\n",
    "reply = cursor.fetchall()"
   ]
  },
  {
   "cell_type": "code",
   "execution_count": 40,
   "metadata": {},
   "outputs": [
    {
     "data": {
      "text/plain": [
       "6963"
      ]
     },
     "execution_count": 40,
     "metadata": {},
     "output_type": "execute_result"
    }
   ],
   "source": [
    "len(reply) # liczba ogłoszeń z odpowiedzią"
   ]
  },
  {
   "cell_type": "code",
   "execution_count": 41,
   "metadata": {},
   "outputs": [],
   "source": [
    "reply_list = []\n",
    "for i in range(0, len(reply)):\n",
    "    reply_list.append(reply[i][0])\n",
    "ads['reply'] = 0"
   ]
  },
  {
   "cell_type": "code",
   "execution_count": 43,
   "metadata": {},
   "outputs": [
    {
     "name": "stderr",
     "output_type": "stream",
     "text": [
      "/home/agnieszka/anaconda3/lib/python3.6/site-packages/ipykernel_launcher.py:4: SettingWithCopyWarning: \n",
      "A value is trying to be set on a copy of a slice from a DataFrame\n",
      "\n",
      "See the caveats in the documentation: http://pandas.pydata.org/pandas-docs/stable/indexing.html#indexing-view-versus-copy\n",
      "  after removing the cwd from sys.path.\n",
      "/home/agnieszka/anaconda3/lib/python3.6/site-packages/ipykernel_launcher.py:3: SettingWithCopyWarning: \n",
      "A value is trying to be set on a copy of a slice from a DataFrame\n",
      "\n",
      "See the caveats in the documentation: http://pandas.pydata.org/pandas-docs/stable/indexing.html#indexing-view-versus-copy\n",
      "  This is separate from the ipykernel package so we can avoid doing imports until\n"
     ]
    }
   ],
   "source": [
    "for i in range(len(ads['ad_id'])):\n",
    "    if ads['ad_id'][i] in reply_list:\n",
    "        ads['reply'][i] = 1\n",
    "    else: ads['reply'][i] = 0"
   ]
  },
  {
   "cell_type": "code",
   "execution_count": 44,
   "metadata": {},
   "outputs": [
    {
     "data": {
      "text/plain": [
       "date                   datetime64[ns]\n",
       "user_id                         int64\n",
       "ad_id                           int64\n",
       "category_id                     int64\n",
       "params                         object\n",
       "day_of_week                    object\n",
       "price                           int64\n",
       "price[currency]                object\n",
       "rent                           object\n",
       "rent[currency]                 object\n",
       "deposit                        object\n",
       "deposit[currency]              object\n",
       "m                             float64\n",
       "rooms_num                      object\n",
       "building_type                  object\n",
       "floor_no                       object\n",
       "building_floors_num            object\n",
       "building_material              object\n",
       "windows_type                   object\n",
       "heating                        object\n",
       "build_year                     object\n",
       "construction_status            object\n",
       "free_from                      object\n",
       "rent_to_students               object\n",
       "equipment_types                object\n",
       "security_types                 object\n",
       "media_types                    object\n",
       "price_per_m                    object\n",
       "type                           object\n",
       "dimensions                     object\n",
       "fence                          object\n",
       "location                       object\n",
       "access_types                   object\n",
       "terrain_area                   object\n",
       "market                         object\n",
       "floors_num                     object\n",
       "garret_type                    object\n",
       "roof_type                      object\n",
       "roofing                        object\n",
       "recreational                   object\n",
       "fence_types                    object\n",
       "heating_types                  object\n",
       "vicinity_types                 object\n",
       "extras_types                   object\n",
       "building_ownership             object\n",
       "use_types                      object\n",
       "height                         object\n",
       "structure                      object\n",
       "parking                        object\n",
       "flooring                       object\n",
       "office_space                   object\n",
       "social_facilities              object\n",
       "ramp                           object\n",
       "localization                   object\n",
       "lighting                       object\n",
       "roomsize                       object\n",
       "non_smokers_only                int64\n",
       "reply                           int64\n",
       "dtype: object"
      ]
     },
     "execution_count": 44,
     "metadata": {},
     "output_type": "execute_result"
    }
   ],
   "source": [
    "ads['price'] = pd.to_numeric(ads['price'])\n",
    "ads['price'] = (ads['price']).astype(int)\n",
    "ads['m'] = pd.to_numeric(ads['m'])\n",
    "ads.dtypes"
   ]
  },
  {
   "cell_type": "markdown",
   "metadata": {},
   "source": [
    "#### Ekstrakcja ogłoszeń dotyczących wyłącznie sprzedaży lub wynajmu mieszkań"
   ]
  },
  {
   "cell_type": "markdown",
   "metadata": {},
   "source": [
    "Dalszą część analizy tzn. badanie wpływu dostępnych parametrów (pierwotnie znajdujących się w kolumnie params) na poziom liquidity, zdecydowałam się przeprowadzić na danych dotyczących wyłącznie sprzedaży mieszkań, ponieważ jest to najliczniej reprezentowana kategoria ogłoszeń w dostępnym zbiorze danych i jednocześnie prawdopodobnie najbardziej interesująca dla użytkowników w serwisie Otodom."
   ]
  },
  {
   "cell_type": "code",
   "execution_count": 45,
   "metadata": {},
   "outputs": [],
   "source": [
    "cat101 = ads[(ads.category_id == 101)] # mieszkania na sprzedaż (kategoria 101)"
   ]
  },
  {
   "cell_type": "code",
   "execution_count": 46,
   "metadata": {},
   "outputs": [],
   "source": [
    "cat101 = cat101.sort_values(by='price')"
   ]
  },
  {
   "cell_type": "code",
   "execution_count": 47,
   "metadata": {
    "scrolled": true
   },
   "outputs": [
    {
     "data": {
      "text/html": [
       "<div>\n",
       "<style scoped>\n",
       "    .dataframe tbody tr th:only-of-type {\n",
       "        vertical-align: middle;\n",
       "    }\n",
       "\n",
       "    .dataframe tbody tr th {\n",
       "        vertical-align: top;\n",
       "    }\n",
       "\n",
       "    .dataframe thead th {\n",
       "        text-align: right;\n",
       "    }\n",
       "</style>\n",
       "<table border=\"1\" class=\"dataframe\">\n",
       "  <thead>\n",
       "    <tr style=\"text-align: right;\">\n",
       "      <th></th>\n",
       "      <th>date</th>\n",
       "      <th>user_id</th>\n",
       "      <th>ad_id</th>\n",
       "      <th>category_id</th>\n",
       "      <th>params</th>\n",
       "      <th>day_of_week</th>\n",
       "      <th>price</th>\n",
       "      <th>price[currency]</th>\n",
       "      <th>rent</th>\n",
       "      <th>rent[currency]</th>\n",
       "      <th>...</th>\n",
       "      <th>parking</th>\n",
       "      <th>flooring</th>\n",
       "      <th>office_space</th>\n",
       "      <th>social_facilities</th>\n",
       "      <th>ramp</th>\n",
       "      <th>localization</th>\n",
       "      <th>lighting</th>\n",
       "      <th>roomsize</th>\n",
       "      <th>non_smokers_only</th>\n",
       "      <th>reply</th>\n",
       "    </tr>\n",
       "  </thead>\n",
       "  <tbody>\n",
       "    <tr>\n",
       "      <th>2573</th>\n",
       "      <td>2019-04-10</td>\n",
       "      <td>1641452</td>\n",
       "      <td>58689896</td>\n",
       "      <td>101</td>\n",
       "      <td>price&lt;=&gt;price&lt;br&gt;price&lt;=&gt;7000&lt;br&gt;price[currenc...</td>\n",
       "      <td>Wednesday</td>\n",
       "      <td>7000</td>\n",
       "      <td>PLN</td>\n",
       "      <td>490</td>\n",
       "      <td>PLN</td>\n",
       "      <td>...</td>\n",
       "      <td>0</td>\n",
       "      <td>0</td>\n",
       "      <td>0</td>\n",
       "      <td>0</td>\n",
       "      <td>0</td>\n",
       "      <td>0</td>\n",
       "      <td>0</td>\n",
       "      <td>0</td>\n",
       "      <td>0</td>\n",
       "      <td>1</td>\n",
       "    </tr>\n",
       "    <tr>\n",
       "      <th>5233</th>\n",
       "      <td>2019-04-02</td>\n",
       "      <td>1641452</td>\n",
       "      <td>58556620</td>\n",
       "      <td>101</td>\n",
       "      <td>price&lt;=&gt;price&lt;br&gt;price&lt;=&gt;12000&lt;br&gt;price[curren...</td>\n",
       "      <td>Tuesday</td>\n",
       "      <td>12000</td>\n",
       "      <td>PLN</td>\n",
       "      <td>220</td>\n",
       "      <td>0</td>\n",
       "      <td>...</td>\n",
       "      <td>0</td>\n",
       "      <td>0</td>\n",
       "      <td>0</td>\n",
       "      <td>0</td>\n",
       "      <td>0</td>\n",
       "      <td>0</td>\n",
       "      <td>0</td>\n",
       "      <td>0</td>\n",
       "      <td>0</td>\n",
       "      <td>1</td>\n",
       "    </tr>\n",
       "    <tr>\n",
       "      <th>1921</th>\n",
       "      <td>2019-04-10</td>\n",
       "      <td>1641452</td>\n",
       "      <td>58690044</td>\n",
       "      <td>101</td>\n",
       "      <td>price&lt;=&gt;price&lt;br&gt;price&lt;=&gt;24000&lt;br&gt;price[curren...</td>\n",
       "      <td>Wednesday</td>\n",
       "      <td>24000</td>\n",
       "      <td>PLN</td>\n",
       "      <td>399</td>\n",
       "      <td>PLN</td>\n",
       "      <td>...</td>\n",
       "      <td>0</td>\n",
       "      <td>0</td>\n",
       "      <td>0</td>\n",
       "      <td>0</td>\n",
       "      <td>0</td>\n",
       "      <td>0</td>\n",
       "      <td>0</td>\n",
       "      <td>0</td>\n",
       "      <td>0</td>\n",
       "      <td>1</td>\n",
       "    </tr>\n",
       "  </tbody>\n",
       "</table>\n",
       "<p>3 rows × 58 columns</p>\n",
       "</div>"
      ],
      "text/plain": [
       "           date  user_id     ad_id  category_id  \\\n",
       "2573 2019-04-10  1641452  58689896          101   \n",
       "5233 2019-04-02  1641452  58556620          101   \n",
       "1921 2019-04-10  1641452  58690044          101   \n",
       "\n",
       "                                                 params day_of_week  price  \\\n",
       "2573  price<=>price<br>price<=>7000<br>price[currenc...   Wednesday   7000   \n",
       "5233  price<=>price<br>price<=>12000<br>price[curren...     Tuesday  12000   \n",
       "1921  price<=>price<br>price<=>24000<br>price[curren...   Wednesday  24000   \n",
       "\n",
       "     price[currency] rent rent[currency]  ...  parking flooring  office_space  \\\n",
       "2573             PLN  490            PLN  ...        0        0             0   \n",
       "5233             PLN  220              0  ...        0        0             0   \n",
       "1921             PLN  399            PLN  ...        0        0             0   \n",
       "\n",
       "     social_facilities ramp localization lighting roomsize non_smokers_only  \\\n",
       "2573                 0    0            0        0        0                0   \n",
       "5233                 0    0            0        0        0                0   \n",
       "1921                 0    0            0        0        0                0   \n",
       "\n",
       "     reply  \n",
       "2573     1  \n",
       "5233     1  \n",
       "1921     1  \n",
       "\n",
       "[3 rows x 58 columns]"
      ]
     },
     "execution_count": 47,
     "metadata": {},
     "output_type": "execute_result"
    }
   ],
   "source": [
    "cat101[0:3]"
   ]
  },
  {
   "cell_type": "markdown",
   "metadata": {},
   "source": [
    "#### Usunięcie wartości odstających - ograniczenia zakresu do najczęściej występujących wartości"
   ]
  },
  {
   "cell_type": "code",
   "execution_count": 48,
   "metadata": {},
   "outputs": [
    {
     "data": {
      "text/plain": [
       "2738"
      ]
     },
     "execution_count": 48,
     "metadata": {},
     "output_type": "execute_result"
    }
   ],
   "source": [
    "# ograniczenie obserwacji do mieszkań na sprzedaż gdzie cena znajduje się w zakresie od 100k do 1m\n",
    "lim101 = cat101[(cat101.price > 100000) & (cat101.price < 1000000 )] \n",
    "len(lim101)"
   ]
  },
  {
   "cell_type": "code",
   "execution_count": 49,
   "metadata": {},
   "outputs": [],
   "source": [
    "#utworzenie przedziałów dla których wyliczane będzie liquidity\n",
    "breaks = np.arange(100000, 1000001, 50000).tolist()"
   ]
  },
  {
   "cell_type": "code",
   "execution_count": 50,
   "metadata": {},
   "outputs": [
    {
     "name": "stderr",
     "output_type": "stream",
     "text": [
      "/home/agnieszka/anaconda3/lib/python3.6/site-packages/ipykernel_launcher.py:4: SettingWithCopyWarning: \n",
      "A value is trying to be set on a copy of a slice from a DataFrame.\n",
      "Try using .loc[row_indexer,col_indexer] = value instead\n",
      "\n",
      "See the caveats in the documentation: http://pandas.pydata.org/pandas-docs/stable/indexing.html#indexing-view-versus-copy\n",
      "  after removing the cwd from sys.path.\n"
     ]
    }
   ],
   "source": [
    "lim101['intervals'] = pd.cut(lim101['price'],\n",
    "                        bins=breaks,\n",
    "                        labels =range(1,19,+1),\n",
    "                        include_lowest=True)"
   ]
  },
  {
   "cell_type": "code",
   "execution_count": 51,
   "metadata": {},
   "outputs": [
    {
     "data": {
      "text/html": [
       "<div>\n",
       "<style scoped>\n",
       "    .dataframe tbody tr th:only-of-type {\n",
       "        vertical-align: middle;\n",
       "    }\n",
       "\n",
       "    .dataframe tbody tr th {\n",
       "        vertical-align: top;\n",
       "    }\n",
       "\n",
       "    .dataframe thead th {\n",
       "        text-align: right;\n",
       "    }\n",
       "</style>\n",
       "<table border=\"1\" class=\"dataframe\">\n",
       "  <thead>\n",
       "    <tr style=\"text-align: right;\">\n",
       "      <th></th>\n",
       "      <th>date</th>\n",
       "      <th>user_id</th>\n",
       "      <th>ad_id</th>\n",
       "      <th>category_id</th>\n",
       "      <th>params</th>\n",
       "      <th>day_of_week</th>\n",
       "      <th>price</th>\n",
       "      <th>price[currency]</th>\n",
       "      <th>rent</th>\n",
       "      <th>rent[currency]</th>\n",
       "      <th>...</th>\n",
       "      <th>flooring</th>\n",
       "      <th>office_space</th>\n",
       "      <th>social_facilities</th>\n",
       "      <th>ramp</th>\n",
       "      <th>localization</th>\n",
       "      <th>lighting</th>\n",
       "      <th>roomsize</th>\n",
       "      <th>non_smokers_only</th>\n",
       "      <th>reply</th>\n",
       "      <th>intervals</th>\n",
       "    </tr>\n",
       "  </thead>\n",
       "  <tbody>\n",
       "    <tr>\n",
       "      <th>1851</th>\n",
       "      <td>2019-04-16</td>\n",
       "      <td>3106352</td>\n",
       "      <td>58769984</td>\n",
       "      <td>101</td>\n",
       "      <td>price&lt;=&gt;price&lt;br&gt;price&lt;=&gt;105000&lt;br&gt;price[curre...</td>\n",
       "      <td>Tuesday</td>\n",
       "      <td>105000</td>\n",
       "      <td>PLN</td>\n",
       "      <td>250</td>\n",
       "      <td>PLN</td>\n",
       "      <td>...</td>\n",
       "      <td>0</td>\n",
       "      <td>0</td>\n",
       "      <td>0</td>\n",
       "      <td>0</td>\n",
       "      <td>0</td>\n",
       "      <td>0</td>\n",
       "      <td>0</td>\n",
       "      <td>0</td>\n",
       "      <td>1</td>\n",
       "      <td>1</td>\n",
       "    </tr>\n",
       "    <tr>\n",
       "      <th>3746</th>\n",
       "      <td>2019-04-16</td>\n",
       "      <td>530533</td>\n",
       "      <td>58776256</td>\n",
       "      <td>101</td>\n",
       "      <td>price&lt;=&gt;price&lt;br&gt;price&lt;=&gt;105000&lt;br&gt;price[curre...</td>\n",
       "      <td>Tuesday</td>\n",
       "      <td>105000</td>\n",
       "      <td>PLN</td>\n",
       "      <td>price</td>\n",
       "      <td>PLN</td>\n",
       "      <td>...</td>\n",
       "      <td>0</td>\n",
       "      <td>0</td>\n",
       "      <td>0</td>\n",
       "      <td>0</td>\n",
       "      <td>0</td>\n",
       "      <td>0</td>\n",
       "      <td>0</td>\n",
       "      <td>0</td>\n",
       "      <td>1</td>\n",
       "      <td>1</td>\n",
       "    </tr>\n",
       "    <tr>\n",
       "      <th>1983</th>\n",
       "      <td>2019-04-18</td>\n",
       "      <td>111337</td>\n",
       "      <td>58808836</td>\n",
       "      <td>101</td>\n",
       "      <td>price&lt;=&gt;price&lt;br&gt;price&lt;=&gt;105000&lt;br&gt;price[curre...</td>\n",
       "      <td>Thursday</td>\n",
       "      <td>105000</td>\n",
       "      <td>PLN</td>\n",
       "      <td></td>\n",
       "      <td>PLN</td>\n",
       "      <td>...</td>\n",
       "      <td>0</td>\n",
       "      <td>0</td>\n",
       "      <td>0</td>\n",
       "      <td>0</td>\n",
       "      <td>0</td>\n",
       "      <td>0</td>\n",
       "      <td>0</td>\n",
       "      <td>0</td>\n",
       "      <td>1</td>\n",
       "      <td>1</td>\n",
       "    </tr>\n",
       "  </tbody>\n",
       "</table>\n",
       "<p>3 rows × 59 columns</p>\n",
       "</div>"
      ],
      "text/plain": [
       "           date  user_id     ad_id  category_id  \\\n",
       "1851 2019-04-16  3106352  58769984          101   \n",
       "3746 2019-04-16   530533  58776256          101   \n",
       "1983 2019-04-18   111337  58808836          101   \n",
       "\n",
       "                                                 params day_of_week   price  \\\n",
       "1851  price<=>price<br>price<=>105000<br>price[curre...     Tuesday  105000   \n",
       "3746  price<=>price<br>price<=>105000<br>price[curre...     Tuesday  105000   \n",
       "1983  price<=>price<br>price<=>105000<br>price[curre...    Thursday  105000   \n",
       "\n",
       "     price[currency]   rent rent[currency]    ...    flooring office_space  \\\n",
       "1851             PLN    250            PLN    ...           0            0   \n",
       "3746             PLN  price            PLN    ...           0            0   \n",
       "1983             PLN                   PLN    ...           0            0   \n",
       "\n",
       "      social_facilities ramp localization lighting roomsize non_smokers_only  \\\n",
       "1851                  0    0            0        0        0                0   \n",
       "3746                  0    0            0        0        0                0   \n",
       "1983                  0    0            0        0        0                0   \n",
       "\n",
       "     reply intervals  \n",
       "1851     1         1  \n",
       "3746     1         1  \n",
       "1983     1         1  \n",
       "\n",
       "[3 rows x 59 columns]"
      ]
     },
     "execution_count": 51,
     "metadata": {},
     "output_type": "execute_result"
    }
   ],
   "source": [
    "lim101[0:3]"
   ]
  },
  {
   "cell_type": "code",
   "execution_count": 52,
   "metadata": {},
   "outputs": [
    {
     "name": "stdout",
     "output_type": "stream",
     "text": [
      "intervals\n",
      "1     0.852941\n",
      "2     0.753623\n",
      "3     0.709402\n",
      "4     0.635514\n",
      "5     0.599359\n",
      "6     0.540000\n",
      "7     0.418605\n",
      "8     0.342007\n",
      "9     0.193548\n",
      "10    0.371795\n",
      "11    0.240602\n",
      "12    0.464286\n",
      "13    0.391304\n",
      "14    0.217391\n",
      "15    0.205128\n",
      "16    0.482759\n",
      "17    0.421053\n",
      "18    0.192308\n",
      "Name: reply, dtype: float64 intervals\n",
      "1      68\n",
      "2     138\n",
      "3     234\n",
      "4     321\n",
      "5     312\n",
      "6     300\n",
      "7     301\n",
      "8     269\n",
      "9     217\n",
      "10    156\n",
      "11    133\n",
      "12     84\n",
      "13     46\n",
      "14     46\n",
      "15     39\n",
      "16     29\n",
      "17     19\n",
      "18     26\n",
      "Name: reply, dtype: int64\n"
     ]
    }
   ],
   "source": [
    "#grupowanie dla przedziałów \n",
    "intervals101 = lim101.groupby('intervals')['reply'].apply(lambda x: x.sum()/x.count())\n",
    "count101 = lim101.groupby('intervals')['reply'].count()\n",
    "print(intervals101, count101)"
   ]
  },
  {
   "cell_type": "code",
   "execution_count": 53,
   "metadata": {},
   "outputs": [
    {
     "data": {
      "text/html": [
       "<div>\n",
       "<style scoped>\n",
       "    .dataframe tbody tr th:only-of-type {\n",
       "        vertical-align: middle;\n",
       "    }\n",
       "\n",
       "    .dataframe tbody tr th {\n",
       "        vertical-align: top;\n",
       "    }\n",
       "\n",
       "    .dataframe thead th {\n",
       "        text-align: right;\n",
       "    }\n",
       "</style>\n",
       "<table border=\"1\" class=\"dataframe\">\n",
       "  <thead>\n",
       "    <tr style=\"text-align: right;\">\n",
       "      <th></th>\n",
       "      <th>reply</th>\n",
       "      <th>count</th>\n",
       "    </tr>\n",
       "    <tr>\n",
       "      <th>intervals</th>\n",
       "      <th></th>\n",
       "      <th></th>\n",
       "    </tr>\n",
       "  </thead>\n",
       "  <tbody>\n",
       "    <tr>\n",
       "      <th>1</th>\n",
       "      <td>0.852941</td>\n",
       "      <td>68</td>\n",
       "    </tr>\n",
       "    <tr>\n",
       "      <th>2</th>\n",
       "      <td>0.753623</td>\n",
       "      <td>138</td>\n",
       "    </tr>\n",
       "    <tr>\n",
       "      <th>3</th>\n",
       "      <td>0.709402</td>\n",
       "      <td>234</td>\n",
       "    </tr>\n",
       "    <tr>\n",
       "      <th>4</th>\n",
       "      <td>0.635514</td>\n",
       "      <td>321</td>\n",
       "    </tr>\n",
       "    <tr>\n",
       "      <th>5</th>\n",
       "      <td>0.599359</td>\n",
       "      <td>312</td>\n",
       "    </tr>\n",
       "    <tr>\n",
       "      <th>6</th>\n",
       "      <td>0.540000</td>\n",
       "      <td>300</td>\n",
       "    </tr>\n",
       "    <tr>\n",
       "      <th>7</th>\n",
       "      <td>0.418605</td>\n",
       "      <td>301</td>\n",
       "    </tr>\n",
       "    <tr>\n",
       "      <th>8</th>\n",
       "      <td>0.342007</td>\n",
       "      <td>269</td>\n",
       "    </tr>\n",
       "    <tr>\n",
       "      <th>9</th>\n",
       "      <td>0.193548</td>\n",
       "      <td>217</td>\n",
       "    </tr>\n",
       "    <tr>\n",
       "      <th>10</th>\n",
       "      <td>0.371795</td>\n",
       "      <td>156</td>\n",
       "    </tr>\n",
       "    <tr>\n",
       "      <th>11</th>\n",
       "      <td>0.240602</td>\n",
       "      <td>133</td>\n",
       "    </tr>\n",
       "    <tr>\n",
       "      <th>12</th>\n",
       "      <td>0.464286</td>\n",
       "      <td>84</td>\n",
       "    </tr>\n",
       "    <tr>\n",
       "      <th>13</th>\n",
       "      <td>0.391304</td>\n",
       "      <td>46</td>\n",
       "    </tr>\n",
       "    <tr>\n",
       "      <th>14</th>\n",
       "      <td>0.217391</td>\n",
       "      <td>46</td>\n",
       "    </tr>\n",
       "    <tr>\n",
       "      <th>15</th>\n",
       "      <td>0.205128</td>\n",
       "      <td>39</td>\n",
       "    </tr>\n",
       "    <tr>\n",
       "      <th>16</th>\n",
       "      <td>0.482759</td>\n",
       "      <td>29</td>\n",
       "    </tr>\n",
       "    <tr>\n",
       "      <th>17</th>\n",
       "      <td>0.421053</td>\n",
       "      <td>19</td>\n",
       "    </tr>\n",
       "    <tr>\n",
       "      <th>18</th>\n",
       "      <td>0.192308</td>\n",
       "      <td>26</td>\n",
       "    </tr>\n",
       "  </tbody>\n",
       "</table>\n",
       "</div>"
      ],
      "text/plain": [
       "              reply  count\n",
       "intervals                 \n",
       "1          0.852941     68\n",
       "2          0.753623    138\n",
       "3          0.709402    234\n",
       "4          0.635514    321\n",
       "5          0.599359    312\n",
       "6          0.540000    300\n",
       "7          0.418605    301\n",
       "8          0.342007    269\n",
       "9          0.193548    217\n",
       "10         0.371795    156\n",
       "11         0.240602    133\n",
       "12         0.464286     84\n",
       "13         0.391304     46\n",
       "14         0.217391     46\n",
       "15         0.205128     39\n",
       "16         0.482759     29\n",
       "17         0.421053     19\n",
       "18         0.192308     26"
      ]
     },
     "execution_count": 53,
     "metadata": {},
     "output_type": "execute_result"
    }
   ],
   "source": [
    "#utworzenie dataframe z wyników group by\n",
    "inter_liq = intervals101.to_frame()\n",
    "inter_liq['count'] = list(count101)\n",
    "inter_liq"
   ]
  },
  {
   "cell_type": "code",
   "execution_count": 54,
   "metadata": {},
   "outputs": [
    {
     "name": "stderr",
     "output_type": "stream",
     "text": [
      "/home/agnieszka/anaconda3/lib/python3.6/site-packages/ipykernel_launcher.py:3: SettingWithCopyWarning: \n",
      "A value is trying to be set on a copy of a slice from a DataFrame\n",
      "\n",
      "See the caveats in the documentation: http://pandas.pydata.org/pandas-docs/stable/indexing.html#indexing-view-versus-copy\n",
      "  This is separate from the ipykernel package so we can avoid doing imports until\n"
     ]
    }
   ],
   "source": [
    "inter_liq['labels'] = ''\n",
    "for i in range(len(inter_liq)):\n",
    "    inter_liq['labels'][i] = str(breaks[i]) + ' - ' + str(breaks[i+1])"
   ]
  },
  {
   "cell_type": "code",
   "execution_count": 55,
   "metadata": {},
   "outputs": [
    {
     "data": {
      "text/html": [
       "<div>\n",
       "<style scoped>\n",
       "    .dataframe tbody tr th:only-of-type {\n",
       "        vertical-align: middle;\n",
       "    }\n",
       "\n",
       "    .dataframe tbody tr th {\n",
       "        vertical-align: top;\n",
       "    }\n",
       "\n",
       "    .dataframe thead th {\n",
       "        text-align: right;\n",
       "    }\n",
       "</style>\n",
       "<table border=\"1\" class=\"dataframe\">\n",
       "  <thead>\n",
       "    <tr style=\"text-align: right;\">\n",
       "      <th></th>\n",
       "      <th>reply</th>\n",
       "      <th>count</th>\n",
       "      <th>labels</th>\n",
       "    </tr>\n",
       "    <tr>\n",
       "      <th>intervals</th>\n",
       "      <th></th>\n",
       "      <th></th>\n",
       "      <th></th>\n",
       "    </tr>\n",
       "  </thead>\n",
       "  <tbody>\n",
       "    <tr>\n",
       "      <th>1</th>\n",
       "      <td>0.852941</td>\n",
       "      <td>68</td>\n",
       "      <td>100000 - 150000</td>\n",
       "    </tr>\n",
       "    <tr>\n",
       "      <th>2</th>\n",
       "      <td>0.753623</td>\n",
       "      <td>138</td>\n",
       "      <td>150000 - 200000</td>\n",
       "    </tr>\n",
       "    <tr>\n",
       "      <th>3</th>\n",
       "      <td>0.709402</td>\n",
       "      <td>234</td>\n",
       "      <td>200000 - 250000</td>\n",
       "    </tr>\n",
       "    <tr>\n",
       "      <th>4</th>\n",
       "      <td>0.635514</td>\n",
       "      <td>321</td>\n",
       "      <td>250000 - 300000</td>\n",
       "    </tr>\n",
       "    <tr>\n",
       "      <th>5</th>\n",
       "      <td>0.599359</td>\n",
       "      <td>312</td>\n",
       "      <td>300000 - 350000</td>\n",
       "    </tr>\n",
       "    <tr>\n",
       "      <th>6</th>\n",
       "      <td>0.540000</td>\n",
       "      <td>300</td>\n",
       "      <td>350000 - 400000</td>\n",
       "    </tr>\n",
       "    <tr>\n",
       "      <th>7</th>\n",
       "      <td>0.418605</td>\n",
       "      <td>301</td>\n",
       "      <td>400000 - 450000</td>\n",
       "    </tr>\n",
       "    <tr>\n",
       "      <th>8</th>\n",
       "      <td>0.342007</td>\n",
       "      <td>269</td>\n",
       "      <td>450000 - 500000</td>\n",
       "    </tr>\n",
       "    <tr>\n",
       "      <th>9</th>\n",
       "      <td>0.193548</td>\n",
       "      <td>217</td>\n",
       "      <td>500000 - 550000</td>\n",
       "    </tr>\n",
       "    <tr>\n",
       "      <th>10</th>\n",
       "      <td>0.371795</td>\n",
       "      <td>156</td>\n",
       "      <td>550000 - 600000</td>\n",
       "    </tr>\n",
       "    <tr>\n",
       "      <th>11</th>\n",
       "      <td>0.240602</td>\n",
       "      <td>133</td>\n",
       "      <td>600000 - 650000</td>\n",
       "    </tr>\n",
       "    <tr>\n",
       "      <th>12</th>\n",
       "      <td>0.464286</td>\n",
       "      <td>84</td>\n",
       "      <td>650000 - 700000</td>\n",
       "    </tr>\n",
       "    <tr>\n",
       "      <th>13</th>\n",
       "      <td>0.391304</td>\n",
       "      <td>46</td>\n",
       "      <td>700000 - 750000</td>\n",
       "    </tr>\n",
       "    <tr>\n",
       "      <th>14</th>\n",
       "      <td>0.217391</td>\n",
       "      <td>46</td>\n",
       "      <td>750000 - 800000</td>\n",
       "    </tr>\n",
       "    <tr>\n",
       "      <th>15</th>\n",
       "      <td>0.205128</td>\n",
       "      <td>39</td>\n",
       "      <td>800000 - 850000</td>\n",
       "    </tr>\n",
       "    <tr>\n",
       "      <th>16</th>\n",
       "      <td>0.482759</td>\n",
       "      <td>29</td>\n",
       "      <td>850000 - 900000</td>\n",
       "    </tr>\n",
       "    <tr>\n",
       "      <th>17</th>\n",
       "      <td>0.421053</td>\n",
       "      <td>19</td>\n",
       "      <td>900000 - 950000</td>\n",
       "    </tr>\n",
       "    <tr>\n",
       "      <th>18</th>\n",
       "      <td>0.192308</td>\n",
       "      <td>26</td>\n",
       "      <td>950000 - 1000000</td>\n",
       "    </tr>\n",
       "  </tbody>\n",
       "</table>\n",
       "</div>"
      ],
      "text/plain": [
       "              reply  count            labels\n",
       "intervals                                   \n",
       "1          0.852941     68   100000 - 150000\n",
       "2          0.753623    138   150000 - 200000\n",
       "3          0.709402    234   200000 - 250000\n",
       "4          0.635514    321   250000 - 300000\n",
       "5          0.599359    312   300000 - 350000\n",
       "6          0.540000    300   350000 - 400000\n",
       "7          0.418605    301   400000 - 450000\n",
       "8          0.342007    269   450000 - 500000\n",
       "9          0.193548    217   500000 - 550000\n",
       "10         0.371795    156   550000 - 600000\n",
       "11         0.240602    133   600000 - 650000\n",
       "12         0.464286     84   650000 - 700000\n",
       "13         0.391304     46   700000 - 750000\n",
       "14         0.217391     46   750000 - 800000\n",
       "15         0.205128     39   800000 - 850000\n",
       "16         0.482759     29   850000 - 900000\n",
       "17         0.421053     19   900000 - 950000\n",
       "18         0.192308     26  950000 - 1000000"
      ]
     },
     "execution_count": 55,
     "metadata": {},
     "output_type": "execute_result"
    }
   ],
   "source": [
    "inter_liq"
   ]
  },
  {
   "cell_type": "markdown",
   "metadata": {},
   "source": [
    "#### Wpływ cen mieszkań na sprzedaż na liquidity"
   ]
  },
  {
   "cell_type": "code",
   "execution_count": 56,
   "metadata": {},
   "outputs": [
    {
     "data": {
      "image/png": "[encoded data removed]",
      "text/plain": [
       "<Figure size 1080x720 with 2 Axes>"
      ]
     },
     "metadata": {},
     "output_type": "display_data"
    }
   ],
   "source": [
    "fig, ax1 = plt.subplots(figsize=(15,10))\n",
    "color = 'tab:green'\n",
    "ax1.set_title('Liquidity value for the price ranges of apartments for sale ', fontsize=20)\n",
    "ax1.set_xticklabels(ax1.get_xticklabels(), rotation=45, horizontalalignment='right')\n",
    "ax1.grid(False)\n",
    "ax2 = sns.barplot(x='labels', y='reply', data = inter_liq, palette='summer')\n",
    "ax1.tick_params(axis='y')\n",
    "ax2 = ax1.twinx()\n",
    "color = 'tab:red'\n",
    "ax2 = sns.lineplot(x='labels', y='count', data = inter_liq, sort=False, color=color)\n",
    "ax2.tick_params(axis='y', color=color)\n",
    "ax2.grid(False)\n",
    "ax1.set_ylabel('Liquidity', fontsize=20, color='green')\n",
    "ax1.set_xlabel('Price', fontsize=20)\n",
    "ax2.set_ylabel('Number of advertisements', fontsize=20, color=color)\n",
    "plt.savefig('prices.png')\n",
    "plt.show()"
   ]
  },
  {
   "cell_type": "markdown",
   "metadata": {},
   "source": [
    "Najwyższy poziom liquidity osiągnęły ogłoszenia mieszkań z najniższego przedziału cenowego (100k-150k). Aż do przedziału 450-500k wraz ze wzrostem cen liquidity spada aż do około 500k. Jednocześnie liczba ogłoszeń w poszczególnych przedziałach w niższej połowie przedziałów cenowych rośnie. W bazie pojawiło się najwięcej ogłoszeń mieszkań na sprzedaż w cenach pomiędzy 300k a 500k. Pomimo zbliżonej liczby ogłoszeń w tych przedziałach liquidity nie jest jednakowe i różni się pomiędzy przedziałem 300k-350k a 450-500k, aż o około 25%. Ogłoszeń sprzedaży mieszkań o cenie powyżej 750k jest znacząco mniej, niż tych o niższych cenach. Jednak mimo liczby ogłoszeń w wysokich przedziałach cenowych widoczna jest znacząca różnica wartości liquidity pomiędzy przedziałami 750k-800k, 800k-850k i 950k-1m, a przedziałami 850k-900k i 900k-950k. W przypadku drugiej grupy z wymienionych przedziałów liquidity jest o około 20% wyższe. "
   ]
  },
  {
   "cell_type": "markdown",
   "metadata": {},
   "source": [
    "#### Wpływ liczby pokoi w mieszkaniu na poziom liquidity"
   ]
  },
  {
   "cell_type": "code",
   "execution_count": 57,
   "metadata": {},
   "outputs": [],
   "source": [
    "rooms = cat101.groupby('rooms_num')['reply'].apply(lambda x: x.sum()/x.count())\n",
    "rooms_count = cat101.groupby('rooms_num')['reply'].count()\n",
    "l = [0,5,7,8,9,10,11,12,13,14,6,15]\n",
    "rooms_count = rooms_count[l]\n",
    "rooms = rooms[l]"
   ]
  },
  {
   "cell_type": "code",
   "execution_count": 58,
   "metadata": {},
   "outputs": [],
   "source": [
    "rooms_liq = rooms.to_frame()\n",
    "rooms_liq['count'] = list(rooms_count)"
   ]
  },
  {
   "cell_type": "code",
   "execution_count": 59,
   "metadata": {},
   "outputs": [
    {
     "data": {
      "text/html": [
       "<div>\n",
       "<style scoped>\n",
       "    .dataframe tbody tr th:only-of-type {\n",
       "        vertical-align: middle;\n",
       "    }\n",
       "\n",
       "    .dataframe tbody tr th {\n",
       "        vertical-align: top;\n",
       "    }\n",
       "\n",
       "    .dataframe thead th {\n",
       "        text-align: right;\n",
       "    }\n",
       "</style>\n",
       "<table border=\"1\" class=\"dataframe\">\n",
       "  <thead>\n",
       "    <tr style=\"text-align: right;\">\n",
       "      <th></th>\n",
       "      <th>reply</th>\n",
       "      <th>count</th>\n",
       "    </tr>\n",
       "    <tr>\n",
       "      <th>rooms_num</th>\n",
       "      <th></th>\n",
       "      <th></th>\n",
       "    </tr>\n",
       "  </thead>\n",
       "  <tbody>\n",
       "    <tr>\n",
       "      <th>0</th>\n",
       "      <td>0.439338</td>\n",
       "      <td>544</td>\n",
       "    </tr>\n",
       "    <tr>\n",
       "      <th>1</th>\n",
       "      <td>0.541237</td>\n",
       "      <td>194</td>\n",
       "    </tr>\n",
       "    <tr>\n",
       "      <th>2</th>\n",
       "      <td>0.488220</td>\n",
       "      <td>764</td>\n",
       "    </tr>\n",
       "    <tr>\n",
       "      <th>3</th>\n",
       "      <td>0.470215</td>\n",
       "      <td>789</td>\n",
       "    </tr>\n",
       "    <tr>\n",
       "      <th>4</th>\n",
       "      <td>0.509804</td>\n",
       "      <td>357</td>\n",
       "    </tr>\n",
       "    <tr>\n",
       "      <th>5</th>\n",
       "      <td>0.496933</td>\n",
       "      <td>163</td>\n",
       "    </tr>\n",
       "    <tr>\n",
       "      <th>6</th>\n",
       "      <td>0.392157</td>\n",
       "      <td>51</td>\n",
       "    </tr>\n",
       "    <tr>\n",
       "      <th>7</th>\n",
       "      <td>0.450000</td>\n",
       "      <td>20</td>\n",
       "    </tr>\n",
       "    <tr>\n",
       "      <th>8</th>\n",
       "      <td>0.666667</td>\n",
       "      <td>9</td>\n",
       "    </tr>\n",
       "    <tr>\n",
       "      <th>9</th>\n",
       "      <td>0.666667</td>\n",
       "      <td>3</td>\n",
       "    </tr>\n",
       "    <tr>\n",
       "      <th>10</th>\n",
       "      <td>0.200000</td>\n",
       "      <td>5</td>\n",
       "    </tr>\n",
       "    <tr>\n",
       "      <th>more</th>\n",
       "      <td>0.526316</td>\n",
       "      <td>19</td>\n",
       "    </tr>\n",
       "  </tbody>\n",
       "</table>\n",
       "</div>"
      ],
      "text/plain": [
       "              reply  count\n",
       "rooms_num                 \n",
       "0          0.439338    544\n",
       "1          0.541237    194\n",
       "2          0.488220    764\n",
       "3          0.470215    789\n",
       "4          0.509804    357\n",
       "5          0.496933    163\n",
       "6          0.392157     51\n",
       "7          0.450000     20\n",
       "8          0.666667      9\n",
       "9          0.666667      3\n",
       "10         0.200000      5\n",
       "more       0.526316     19"
      ]
     },
     "execution_count": 59,
     "metadata": {},
     "output_type": "execute_result"
    }
   ],
   "source": [
    "rooms_liq"
   ]
  },
  {
   "cell_type": "markdown",
   "metadata": {},
   "source": [
    "Poziom liquidity dla grup reprezentujących liczbę pokoi w mieszkaniach waha się od 0.2 do 0.66. Jednak biorą pod uwagę tylko klasy z liczbą pokoi od 0 do 6, gdzie liczba ogłoszeń wynosi co najmniej 100 ogłoszeń w klasie - liquidity wynosi od 0.44 do 0.54 - jest to stosunkowo nieduże wahanie wskaźnika liquidity. Nie można więc określić liczba pokoi w mieszkaniu jako istotny czynnik determinujący poziom liquidity."
   ]
  },
  {
   "cell_type": "markdown",
   "metadata": {},
   "source": [
    "#### Wpływ powierzchni mieszkania na poziom liquidity"
   ]
  },
  {
   "cell_type": "code",
   "execution_count": 60,
   "metadata": {},
   "outputs": [
    {
     "data": {
      "text/html": [
       "<div>\n",
       "<style scoped>\n",
       "    .dataframe tbody tr th:only-of-type {\n",
       "        vertical-align: middle;\n",
       "    }\n",
       "\n",
       "    .dataframe tbody tr th {\n",
       "        vertical-align: top;\n",
       "    }\n",
       "\n",
       "    .dataframe thead th {\n",
       "        text-align: right;\n",
       "    }\n",
       "</style>\n",
       "<table border=\"1\" class=\"dataframe\">\n",
       "  <thead>\n",
       "    <tr style=\"text-align: right;\">\n",
       "      <th></th>\n",
       "      <th>date</th>\n",
       "      <th>user_id</th>\n",
       "      <th>ad_id</th>\n",
       "      <th>category_id</th>\n",
       "      <th>params</th>\n",
       "      <th>day_of_week</th>\n",
       "      <th>price</th>\n",
       "      <th>price[currency]</th>\n",
       "      <th>rent</th>\n",
       "      <th>rent[currency]</th>\n",
       "      <th>...</th>\n",
       "      <th>parking</th>\n",
       "      <th>flooring</th>\n",
       "      <th>office_space</th>\n",
       "      <th>social_facilities</th>\n",
       "      <th>ramp</th>\n",
       "      <th>localization</th>\n",
       "      <th>lighting</th>\n",
       "      <th>roomsize</th>\n",
       "      <th>non_smokers_only</th>\n",
       "      <th>reply</th>\n",
       "    </tr>\n",
       "  </thead>\n",
       "  <tbody>\n",
       "    <tr>\n",
       "      <th>2573</th>\n",
       "      <td>2019-04-10</td>\n",
       "      <td>1641452</td>\n",
       "      <td>58689896</td>\n",
       "      <td>101</td>\n",
       "      <td>price&lt;=&gt;price&lt;br&gt;price&lt;=&gt;7000&lt;br&gt;price[currenc...</td>\n",
       "      <td>Wednesday</td>\n",
       "      <td>7000</td>\n",
       "      <td>PLN</td>\n",
       "      <td>490</td>\n",
       "      <td>PLN</td>\n",
       "      <td>...</td>\n",
       "      <td>0</td>\n",
       "      <td>0</td>\n",
       "      <td>0</td>\n",
       "      <td>0</td>\n",
       "      <td>0</td>\n",
       "      <td>0</td>\n",
       "      <td>0</td>\n",
       "      <td>0</td>\n",
       "      <td>0</td>\n",
       "      <td>1</td>\n",
       "    </tr>\n",
       "    <tr>\n",
       "      <th>5233</th>\n",
       "      <td>2019-04-02</td>\n",
       "      <td>1641452</td>\n",
       "      <td>58556620</td>\n",
       "      <td>101</td>\n",
       "      <td>price&lt;=&gt;price&lt;br&gt;price&lt;=&gt;12000&lt;br&gt;price[curren...</td>\n",
       "      <td>Tuesday</td>\n",
       "      <td>12000</td>\n",
       "      <td>PLN</td>\n",
       "      <td>220</td>\n",
       "      <td>0</td>\n",
       "      <td>...</td>\n",
       "      <td>0</td>\n",
       "      <td>0</td>\n",
       "      <td>0</td>\n",
       "      <td>0</td>\n",
       "      <td>0</td>\n",
       "      <td>0</td>\n",
       "      <td>0</td>\n",
       "      <td>0</td>\n",
       "      <td>0</td>\n",
       "      <td>1</td>\n",
       "    </tr>\n",
       "    <tr>\n",
       "      <th>1921</th>\n",
       "      <td>2019-04-10</td>\n",
       "      <td>1641452</td>\n",
       "      <td>58690044</td>\n",
       "      <td>101</td>\n",
       "      <td>price&lt;=&gt;price&lt;br&gt;price&lt;=&gt;24000&lt;br&gt;price[curren...</td>\n",
       "      <td>Wednesday</td>\n",
       "      <td>24000</td>\n",
       "      <td>PLN</td>\n",
       "      <td>399</td>\n",
       "      <td>PLN</td>\n",
       "      <td>...</td>\n",
       "      <td>0</td>\n",
       "      <td>0</td>\n",
       "      <td>0</td>\n",
       "      <td>0</td>\n",
       "      <td>0</td>\n",
       "      <td>0</td>\n",
       "      <td>0</td>\n",
       "      <td>0</td>\n",
       "      <td>0</td>\n",
       "      <td>1</td>\n",
       "    </tr>\n",
       "  </tbody>\n",
       "</table>\n",
       "<p>3 rows × 58 columns</p>\n",
       "</div>"
      ],
      "text/plain": [
       "           date  user_id     ad_id  category_id  \\\n",
       "2573 2019-04-10  1641452  58689896          101   \n",
       "5233 2019-04-02  1641452  58556620          101   \n",
       "1921 2019-04-10  1641452  58690044          101   \n",
       "\n",
       "                                                 params day_of_week  price  \\\n",
       "2573  price<=>price<br>price<=>7000<br>price[currenc...   Wednesday   7000   \n",
       "5233  price<=>price<br>price<=>12000<br>price[curren...     Tuesday  12000   \n",
       "1921  price<=>price<br>price<=>24000<br>price[curren...   Wednesday  24000   \n",
       "\n",
       "     price[currency] rent rent[currency]  ...  parking flooring  office_space  \\\n",
       "2573             PLN  490            PLN  ...        0        0             0   \n",
       "5233             PLN  220              0  ...        0        0             0   \n",
       "1921             PLN  399            PLN  ...        0        0             0   \n",
       "\n",
       "     social_facilities ramp localization lighting roomsize non_smokers_only  \\\n",
       "2573                 0    0            0        0        0                0   \n",
       "5233                 0    0            0        0        0                0   \n",
       "1921                 0    0            0        0        0                0   \n",
       "\n",
       "     reply  \n",
       "2573     1  \n",
       "5233     1  \n",
       "1921     1  \n",
       "\n",
       "[3 rows x 58 columns]"
      ]
     },
     "execution_count": 60,
     "metadata": {},
     "output_type": "execute_result"
    }
   ],
   "source": [
    "cat101[0:3]"
   ]
  },
  {
   "cell_type": "code",
   "execution_count": 61,
   "metadata": {},
   "outputs": [],
   "source": [
    "cat101 = lim101.sort_values(by='m')"
   ]
  },
  {
   "cell_type": "code",
   "execution_count": 62,
   "metadata": {},
   "outputs": [
    {
     "data": {
      "text/plain": [
       "2691"
      ]
     },
     "execution_count": 62,
     "metadata": {},
     "output_type": "execute_result"
    }
   ],
   "source": [
    "#usunięcie obserwacji z wysoką i niską wartością m\n",
    "m = cat101[(cat101.m < 120) & (cat101.m > 20)] \n",
    "len(m)"
   ]
  },
  {
   "cell_type": "code",
   "execution_count": 63,
   "metadata": {},
   "outputs": [
    {
     "data": {
      "text/plain": [
       "[20, 30, 40, 50, 60, 70, 80, 90, 100, 110, 120]"
      ]
     },
     "execution_count": 63,
     "metadata": {},
     "output_type": "execute_result"
    }
   ],
   "source": [
    "#utworzenie przedziałów dla których wyliczane będzie liquidity\n",
    "mbreaks = np.arange(20, 121, 10).tolist()\n",
    "mbreaks"
   ]
  },
  {
   "cell_type": "code",
   "execution_count": 64,
   "metadata": {},
   "outputs": [
    {
     "name": "stderr",
     "output_type": "stream",
     "text": [
      "/home/agnieszka/anaconda3/lib/python3.6/site-packages/ipykernel_launcher.py:4: SettingWithCopyWarning: \n",
      "A value is trying to be set on a copy of a slice from a DataFrame.\n",
      "Try using .loc[row_indexer,col_indexer] = value instead\n",
      "\n",
      "See the caveats in the documentation: http://pandas.pydata.org/pandas-docs/stable/indexing.html#indexing-view-versus-copy\n",
      "  after removing the cwd from sys.path.\n"
     ]
    }
   ],
   "source": [
    "m['intervals'] = pd.cut(m['m'],\n",
    "                        bins=mbreaks,\n",
    "                        labels =range(1,11,+1),\n",
    "                        include_lowest=True)"
   ]
  },
  {
   "cell_type": "code",
   "execution_count": 65,
   "metadata": {},
   "outputs": [
    {
     "name": "stdout",
     "output_type": "stream",
     "text": [
      "intervals\n",
      "1     0.601852\n",
      "2     0.563910\n",
      "3     0.580000\n",
      "4     0.452668\n",
      "5     0.392857\n",
      "6     0.440476\n",
      "7     0.387387\n",
      "8     0.370968\n",
      "9     0.343750\n",
      "10    0.785714\n",
      "Name: reply, dtype: float64 intervals\n",
      "1     108\n",
      "2     399\n",
      "3     600\n",
      "4     581\n",
      "5     532\n",
      "6     252\n",
      "7     111\n",
      "8      62\n",
      "9      32\n",
      "10     14\n",
      "Name: reply, dtype: int64\n"
     ]
    }
   ],
   "source": [
    "intervalsm = m.groupby('intervals')['reply'].apply(lambda x: x.sum()/x.count())\n",
    "countm = m.groupby('intervals')['reply'].count()\n",
    "print (intervalsm, countm)"
   ]
  },
  {
   "cell_type": "code",
   "execution_count": 66,
   "metadata": {},
   "outputs": [],
   "source": [
    "#utworzenie dataframe z wyników group by\n",
    "m_liq = intervalsm.to_frame()\n",
    "m_liq['count'] = list(countm)"
   ]
  },
  {
   "cell_type": "code",
   "execution_count": 67,
   "metadata": {},
   "outputs": [
    {
     "name": "stderr",
     "output_type": "stream",
     "text": [
      "/home/agnieszka/anaconda3/lib/python3.6/site-packages/ipykernel_launcher.py:3: SettingWithCopyWarning: \n",
      "A value is trying to be set on a copy of a slice from a DataFrame\n",
      "\n",
      "See the caveats in the documentation: http://pandas.pydata.org/pandas-docs/stable/indexing.html#indexing-view-versus-copy\n",
      "  This is separate from the ipykernel package so we can avoid doing imports until\n"
     ]
    }
   ],
   "source": [
    "m_liq['labels'] = ''\n",
    "for i in range(len(m_liq)):\n",
    "    m_liq['labels'][i] = str(mbreaks[i]) + ' - ' + str(mbreaks[i+1])\n"
   ]
  },
  {
   "cell_type": "code",
   "execution_count": 68,
   "metadata": {},
   "outputs": [
    {
     "data": {
      "text/html": [
       "<div>\n",
       "<style scoped>\n",
       "    .dataframe tbody tr th:only-of-type {\n",
       "        vertical-align: middle;\n",
       "    }\n",
       "\n",
       "    .dataframe tbody tr th {\n",
       "        vertical-align: top;\n",
       "    }\n",
       "\n",
       "    .dataframe thead th {\n",
       "        text-align: right;\n",
       "    }\n",
       "</style>\n",
       "<table border=\"1\" class=\"dataframe\">\n",
       "  <thead>\n",
       "    <tr style=\"text-align: right;\">\n",
       "      <th></th>\n",
       "      <th>reply</th>\n",
       "      <th>count</th>\n",
       "      <th>labels</th>\n",
       "    </tr>\n",
       "    <tr>\n",
       "      <th>intervals</th>\n",
       "      <th></th>\n",
       "      <th></th>\n",
       "      <th></th>\n",
       "    </tr>\n",
       "  </thead>\n",
       "  <tbody>\n",
       "    <tr>\n",
       "      <th>1</th>\n",
       "      <td>0.601852</td>\n",
       "      <td>108</td>\n",
       "      <td>20 - 30</td>\n",
       "    </tr>\n",
       "    <tr>\n",
       "      <th>2</th>\n",
       "      <td>0.563910</td>\n",
       "      <td>399</td>\n",
       "      <td>30 - 40</td>\n",
       "    </tr>\n",
       "    <tr>\n",
       "      <th>3</th>\n",
       "      <td>0.580000</td>\n",
       "      <td>600</td>\n",
       "      <td>40 - 50</td>\n",
       "    </tr>\n",
       "    <tr>\n",
       "      <th>4</th>\n",
       "      <td>0.452668</td>\n",
       "      <td>581</td>\n",
       "      <td>50 - 60</td>\n",
       "    </tr>\n",
       "    <tr>\n",
       "      <th>5</th>\n",
       "      <td>0.392857</td>\n",
       "      <td>532</td>\n",
       "      <td>60 - 70</td>\n",
       "    </tr>\n",
       "    <tr>\n",
       "      <th>6</th>\n",
       "      <td>0.440476</td>\n",
       "      <td>252</td>\n",
       "      <td>70 - 80</td>\n",
       "    </tr>\n",
       "    <tr>\n",
       "      <th>7</th>\n",
       "      <td>0.387387</td>\n",
       "      <td>111</td>\n",
       "      <td>80 - 90</td>\n",
       "    </tr>\n",
       "    <tr>\n",
       "      <th>8</th>\n",
       "      <td>0.370968</td>\n",
       "      <td>62</td>\n",
       "      <td>90 - 100</td>\n",
       "    </tr>\n",
       "    <tr>\n",
       "      <th>9</th>\n",
       "      <td>0.343750</td>\n",
       "      <td>32</td>\n",
       "      <td>100 - 110</td>\n",
       "    </tr>\n",
       "    <tr>\n",
       "      <th>10</th>\n",
       "      <td>0.785714</td>\n",
       "      <td>14</td>\n",
       "      <td>110 - 120</td>\n",
       "    </tr>\n",
       "  </tbody>\n",
       "</table>\n",
       "</div>"
      ],
      "text/plain": [
       "              reply  count     labels\n",
       "intervals                            \n",
       "1          0.601852    108    20 - 30\n",
       "2          0.563910    399    30 - 40\n",
       "3          0.580000    600    40 - 50\n",
       "4          0.452668    581    50 - 60\n",
       "5          0.392857    532    60 - 70\n",
       "6          0.440476    252    70 - 80\n",
       "7          0.387387    111    80 - 90\n",
       "8          0.370968     62   90 - 100\n",
       "9          0.343750     32  100 - 110\n",
       "10         0.785714     14  110 - 120"
      ]
     },
     "execution_count": 68,
     "metadata": {},
     "output_type": "execute_result"
    }
   ],
   "source": [
    "m_liq"
   ]
  },
  {
   "cell_type": "code",
   "execution_count": 69,
   "metadata": {},
   "outputs": [
    {
     "data": {
      "image/png": "[encoded data removed]",
      "text/plain": [
       "<Figure size 1080x720 with 2 Axes>"
      ]
     },
     "metadata": {},
     "output_type": "display_data"
    }
   ],
   "source": [
    "fig, ax1 = plt.subplots(figsize=(15,10))\n",
    "color = 'tab:green'\n",
    "ax1.set_title('Liquidity value for the size of an apartment ranges of apartments for sale ', fontsize=20)\n",
    "ax1.set_xticklabels(ax1.get_xticklabels(), rotation=45, horizontalalignment='right')\n",
    "ax1.grid(False)\n",
    "ax2 = sns.barplot(x='labels', y='reply', data = m_liq, color='#c0d6e4')\n",
    "ax1.tick_params(axis='y')\n",
    "ax2 = ax1.twinx()\n",
    "color = 'tab:red'\n",
    "ax2 = sns.lineplot(x='labels', y='count', data = m_liq, sort=False, color=color)\n",
    "ax2.tick_params(axis='y', color=color)\n",
    "ax2.grid(False)\n",
    "ax1.set_ylabel('Liquidity', fontsize=20, color='#c0d6e4')\n",
    "ax1.set_xlabel('Size of an apartment', fontsize=20)\n",
    "ax2.set_ylabel('Number of advertisements', fontsize=20, color=color)\n",
    "plt.savefig('m.png')\n",
    "plt.show()"
   ]
  },
  {
   "cell_type": "markdown",
   "metadata": {},
   "source": [
    "Najliczniej reprezentowane grupy mieszkań to te pomiędzy 30 a 80 m^2 powierzchni. W tych klasach wartość wskaźnika liquidity wynosi maksymalnie 58 % dla klasy 40-50 m^2 i minimalnie 39% dla klasy 60-70 m^2. "
   ]
  },
  {
   "cell_type": "markdown",
   "metadata": {},
   "source": [
    "#### Podsumowanie"
   ]
  },
  {
   "cell_type": "markdown",
   "metadata": {},
   "source": [
    "Po rozdzieleniu zawartości kolumny params z tabeli ads możliwe było utworzenie nowych kolumn zawierających dodatkowe parametry. Wiele z nich posiada spore braki w danych, stąd nie jest możliwe przeanalizowanie ich wpływu na poziom liquidity. Część z tych parametrów nie wnosi żadnych istotnych informacji w kontekście liquidity np. \"price[currency]\". Jednak przeanalizowanie kilku parametrów (cena, metraż i liczba pokoi) uzyskanych z kolumny params pozwoliło na pokazanie zróżnicowania zainteresowania ofertami z kategorii: mieszkania na sprzedaż. Z pewnością dostęp do szerszego zbioru danych pozwoliłby na potwierdzenie postawionych z niniejszej analizie hipotez na temat wpływu czynników na poziom liquidity. \n",
    "\n",
    "Biorąc pod uwagę również inne - niezawarte w dostępnych danych czynniki, które mogą wpłynąć na zwiększenie zainteresowania ofertą myślę, że istotny może być sposób prezentacji nieruchomości, np.:\n",
    "- czy oferta zawiera zdjęcia oraz czy są one wykonane estetycznie i prezentują nieruchomość w zachęcający sposób\n",
    "- tytuł oferty\n",
    "- opis oferty\n",
    "- promowanie oferty w serwisie\n",
    "\n",
    "Myślę, że na poziom liquidity może również wpływać: lokalizacja nieruchomości, stosunek jakości do ceny czy miesiąc, w którym publikowana jest oferta"
   ]
  },
  {
   "cell_type": "code",
   "execution_count": 70,
   "metadata": {},
   "outputs": [],
   "source": [
    "conn.close()"
   ]
  }
 ],
 "metadata": {
  "kernelspec": {
   "display_name": "Python 3",
   "language": "python",
   "name": "python3"
  },
  "language_info": {
   "codemirror_mode": {
    "name": "ipython",
    "version": 3
   },
   "file_extension": ".py",
   "mimetype": "text/x-python",
   "name": "python",
   "nbconvert_exporter": "python",
   "pygments_lexer": "ipython3",
   "version": "3.6.5"
  }
 },
 "nbformat": 4,
 "nbformat_minor": 2
}
